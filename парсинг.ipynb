{
 "cells": [
  {
   "cell_type": "markdown",
   "id": "5a87de91",
   "metadata": {
    "id": "5a87de91"
   },
   "source": [
    "# I) Парсинг"
   ]
  },
  {
   "cell_type": "markdown",
   "id": "7fa7c728",
   "metadata": {
    "id": "7fa7c728"
   },
   "source": [
    "Подгружаем нужные библиотеки"
   ]
  },
  {
   "cell_type": "code",
   "execution_count": 2,
   "id": "327d341f",
   "metadata": {
    "id": "327d341f"
   },
   "outputs": [],
   "source": [
    "import requests\n",
    "from bs4 import BeautifulSoup as bs\n",
    "import pandas as pd\n",
    "import numpy as np\n",
    "import missingno as msno\n",
    "import matplotlib.pyplot as plt\n",
    "import seaborn as sns"
   ]
  },
  {
   "cell_type": "markdown",
   "id": "1946a772",
   "metadata": {
    "id": "1946a772"
   },
   "source": [
    "Собираем ссылки на объявления"
   ]
  },
  {
   "cell_type": "code",
   "execution_count": null,
   "id": "38a3c6cf",
   "metadata": {
    "id": "38a3c6cf"
   },
   "outputs": [],
   "source": [
    "links = []\n",
    "for i in range(100):\n",
    "    #будем рабоать со страницей + номер страницы:\n",
    "    link = 'https://moscow.drom.ru/auto/all/page' + str(i)\n",
    "    \n",
    "    #для начала отправляем запрос\n",
    "    responce = requests.get(link).text\n",
    "\n",
    "    #создаем объект (в качестве аргументов - значение аштимл и с помощью классов мы можем находить нужное значение на странице)\n",
    "    soup = bs(responce, 'lxml')\n",
    "\n",
    "    #достаем наш блок с данными, на странице объявления в нескольких блоках, поэтому будем использовать find_all\n",
    "    block = soup.find_all('div', class_ = \"css-1nvf6xk eojktn00\")\n",
    "    \n",
    "    #служебный массив\n",
    "    mass = []\n",
    "    \n",
    "    #перебираем в block и ищем наш разделитель - а, в нем получаем href и записываем в служебный массив\n",
    "    for i in block:\n",
    "        a = i.find_all('a')\n",
    "        for j in a:\n",
    "            mass.append(j.get('href'))\n",
    "            \n",
    "    #срезаем лишнее\n",
    "    mass = mass[:20]\n",
    "    \n",
    "    #записываем наши ссылки в конечный массив\n",
    "    for i in mass:\n",
    "        links.append(i)"
   ]
  },
  {
   "cell_type": "code",
   "execution_count": null,
   "id": "216dadfe",
   "metadata": {
    "id": "216dadfe"
   },
   "outputs": [],
   "source": [
    "#создаем нашу таблицу\n",
    "df = pd.DataFrame(columns = ['Название', \n",
    "                             'Год', \n",
    "                             'Топливо', \n",
    "                             'Объем двигателя', \n",
    "                             'Мощность', \n",
    "                             'Коробка передач', \n",
    "                             'Привод', \n",
    "                             'Цвет', \n",
    "                             'Пробег',\n",
    "                             'Руль',\n",
    "                             'Оценка Drom',\n",
    "                             'Цена'])"
   ]
  },
  {
   "cell_type": "code",
   "execution_count": null,
   "id": "33910241",
   "metadata": {
    "id": "33910241"
   },
   "outputs": [],
   "source": [
    "#собираем данные с объявлений и вносим все в таблицу\n",
    "\n",
    "#перебираем все ссылки в нашем массиве и создаем наш soup для каждой ссылки\n",
    "for link in links:\n",
    "    responce = requests.get(link).text\n",
    "    soup = bs(responce, 'lxml')\n",
    "    \n",
    "    #проверяем не снято ли объявление с продажи, если снято - проходим мимо\n",
    "    if 'Автомобиль снят с продажи' in str(soup.find('div', class_ = 'css-1bw6vfx edsrp6u2')):\n",
    "        continue \n",
    "    #находим в soup блок с характеристиками и переделываем в строку\n",
    "    block = str(soup.find('tbody'))\n",
    "\n",
    "    #определяем название и год\n",
    "    col = str(soup.find('span', class_ = 'css-1kb7l9z e162wx9x0'))[44:-20].split(', ')\n",
    "    #случается такое, что по воле божей питон перестает на некоторых объявлениях видеть название. ограничиваем это\n",
    "    if len(col) == 1:\n",
    "        continue\n",
    "    name = col[0]                     #название\n",
    "    year = int(col[1])                   #год\n",
    "\n",
    "    #работаем с данными по двигателю\n",
    "    idx = block.find('Двигатель')\n",
    "    if idx != -1: \n",
    "        engine = block[idx:]\n",
    "        engine = engine[523:]\n",
    "        engine = engine[:engine.find('<')]\n",
    "    else:\n",
    "        engine = ''\n",
    "    if 'ГБО' in engine:\n",
    "        engine = engine[:-5]\n",
    "    if 'гибрид' in engine:\n",
    "        engine = engine[:-8]\n",
    "    mass_fuel = ['бензин', 'дизель', 'электро']\n",
    "    fuel = ''\n",
    "    for i in mass_fuel:\n",
    "        if i in engine:\n",
    "            fuel = i                                                #здесь определили топливо\n",
    "            engine = engine.replace(i, '')[2:]\n",
    "    if len(engine) != 0:\n",
    "        volume = float(engine[:-2])                                 #здесь объем\n",
    "    else:\n",
    "        volume = ''\n",
    "\n",
    "\n",
    "    #работаем по мощности\n",
    "    power = block[block.find('Мощность'):]\n",
    "    power = power[power.find('class=\"css-9g0qum e162wx9x0\">'):][29:]\n",
    "    power = power[:power.find('<!')]\n",
    "    if len(power) >= 1:\n",
    "        if power[0].isdigit() and power[-1].isdigit():\n",
    "            power = int(power)\n",
    "    else:\n",
    "        power = ''\n",
    "\n",
    "    #работаем по коробке передач\n",
    "    idx = block.find('Коробка передач')\n",
    "    transmission = ''\n",
    "    if idx != -1: \n",
    "        transmission = block[idx:][52:]\n",
    "        transmission = transmission[:transmission.find('<')]\n",
    "\n",
    "    #определяем привод\n",
    "    idx = block.find('Привод')\n",
    "    drive = ''\n",
    "    if idx != -1: \n",
    "        drive = block[idx:][43:]\n",
    "        drive = drive[:drive.find('<')]\n",
    "\n",
    "    #определяем цвет\n",
    "    idx = block.find('Цвет')\n",
    "    color = ''\n",
    "    if idx != -1: \n",
    "        color = block[idx:][41:]\n",
    "        color = color[:color.find('<')]\n",
    "\n",
    "    #определяем руль\n",
    "    idx = block.find('Руль')\n",
    "    wheel = ''\n",
    "    if idx != -1: \n",
    "        wheel = block[idx:][41:]\n",
    "        wheel = wheel[:wheel.find('<')]\n",
    "\n",
    "    #определяем пробег\n",
    "    block = soup.find('span', class_ = 'css-1osyw3j ei6iaw00')\n",
    "    mileage_mass = str(block)[35:-7].split('\\xa0')\n",
    "\n",
    "    mileage = ''\n",
    "    for i in mileage_mass:\n",
    "        mileage += i\n",
    "\n",
    "    for i in mileage:\n",
    "        if i.isdigit() == False:\n",
    "            mileage = mileage[:mileage.find('i')]\n",
    "\n",
    "    #определяем цену\n",
    "    price_prep = str(soup.find('div', class_ = 'css-eazmxc e162wx9x0'))[34:-24].split('\\xa0')\n",
    "    price = ''\n",
    "    for i in price_prep:\n",
    "        price += i\n",
    "    price = int(price)\n",
    "\n",
    "    #определяем оценку авто по мнению дром\n",
    "    score = str(soup.find('div', direction='column', class_ = 'css-obi42x eb0sjjd0'))[239:-6]\n",
    "\n",
    "    #записываем собранные данные в список\n",
    "    mass = [name, year, fuel, volume, power, transmission, drive, color, mileage, wheel, score, price]\n",
    "    #добавляем список к таблице\n",
    "    df.loc[len(df.index)] = mass"
   ]
  },
  {
   "cell_type": "code",
   "execution_count": null,
   "id": "0892ac04",
   "metadata": {
    "id": "0892ac04"
   },
   "outputs": [],
   "source": [
    "#сохраняем нашу таблицу\n",
    "df.to_csv('auto3.csv')"
   ]
  }
 ],
 "metadata": {
  "colab": {
   "provenance": []
  },
  "kernelspec": {
   "display_name": "Python 3 (ipykernel)",
   "language": "python",
   "name": "python3"
  },
  "language_info": {
   "codemirror_mode": {
    "name": "ipython",
    "version": 3
   },
   "file_extension": ".py",
   "mimetype": "text/x-python",
   "name": "python",
   "nbconvert_exporter": "python",
   "pygments_lexer": "ipython3",
   "version": "3.9.12"
  }
 },
 "nbformat": 4,
 "nbformat_minor": 5
}
