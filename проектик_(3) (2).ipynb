{
 "cells": [
  {
   "cell_type": "markdown",
   "id": "9af524c9",
   "metadata": {
    "id": "9af524c9"
   },
   "source": [
    "# I) Парсинг"
   ]
  },
  {
   "cell_type": "markdown",
   "id": "e03dd076",
   "metadata": {
    "id": "e03dd076"
   },
   "source": [
    "Если у вас не установлены библиотеки, то запускаем следующий код:"
   ]
  },
  {
   "cell_type": "code",
   "execution_count": null,
   "id": "09c16809",
   "metadata": {
    "colab": {
     "base_uri": "https://localhost:8080/"
    },
    "id": "09c16809",
    "outputId": "ad39b9a9-5227-4331-8f50-e5f5a153ffb1"
   },
   "outputs": [
    {
     "name": "stdout",
     "output_type": "stream",
     "text": [
      "Looking in indexes: https://pypi.org/simple, https://us-python.pkg.dev/colab-wheels/public/simple/\n",
      "Requirement already satisfied: requests in /usr/local/lib/python3.10/dist-packages (2.27.1)\n",
      "Requirement already satisfied: urllib3<1.27,>=1.21.1 in /usr/local/lib/python3.10/dist-packages (from requests) (1.26.15)\n",
      "Requirement already satisfied: certifi>=2017.4.17 in /usr/local/lib/python3.10/dist-packages (from requests) (2022.12.7)\n",
      "Requirement already satisfied: charset-normalizer~=2.0.0 in /usr/local/lib/python3.10/dist-packages (from requests) (2.0.12)\n",
      "Requirement already satisfied: idna<4,>=2.5 in /usr/local/lib/python3.10/dist-packages (from requests) (3.4)\n",
      "Looking in indexes: https://pypi.org/simple, https://us-python.pkg.dev/colab-wheels/public/simple/\n",
      "Collecting bs4\n",
      "  Downloading bs4-0.0.1.tar.gz (1.1 kB)\n",
      "  Preparing metadata (setup.py) ... \u001b[?25l\u001b[?25hdone\n",
      "Requirement already satisfied: beautifulsoup4 in /usr/local/lib/python3.10/dist-packages (from bs4) (4.11.2)\n",
      "Requirement already satisfied: soupsieve>1.2 in /usr/local/lib/python3.10/dist-packages (from beautifulsoup4->bs4) (2.4.1)\n",
      "Building wheels for collected packages: bs4\n",
      "  Building wheel for bs4 (setup.py) ... \u001b[?25l\u001b[?25hdone\n",
      "  Created wheel for bs4: filename=bs4-0.0.1-py3-none-any.whl size=1257 sha256=99f8bc090298a3ca5d95cfae63914cb344ba809be2695dbfe81fd987fb0b50a6\n",
      "  Stored in directory: /root/.cache/pip/wheels/25/42/45/b773edc52acb16cd2db4cf1a0b47117e2f69bb4eb300ed0e70\n",
      "Successfully built bs4\n",
      "Installing collected packages: bs4\n",
      "Successfully installed bs4-0.0.1\n",
      "Looking in indexes: https://pypi.org/simple, https://us-python.pkg.dev/colab-wheels/public/simple/\n",
      "Requirement already satisfied: lxml in /usr/local/lib/python3.10/dist-packages (4.9.2)\n",
      "Looking in indexes: https://pypi.org/simple, https://us-python.pkg.dev/colab-wheels/public/simple/\n",
      "Collecting selenium\n",
      "  Downloading selenium-4.9.1-py3-none-any.whl (6.6 MB)\n",
      "\u001b[2K     \u001b[90m━━━━━━━━━━━━━━━━━━━━━━━━━━━━━━━━━━━━━━━━\u001b[0m \u001b[32m6.6/6.6 MB\u001b[0m \u001b[31m46.5 MB/s\u001b[0m eta \u001b[36m0:00:00\u001b[0m\n",
      "\u001b[?25hRequirement already satisfied: urllib3[socks]<3,>=1.26 in /usr/local/lib/python3.10/dist-packages (from selenium) (1.26.15)\n",
      "Collecting trio~=0.17 (from selenium)\n",
      "  Downloading trio-0.22.0-py3-none-any.whl (384 kB)\n",
      "\u001b[2K     \u001b[90m━━━━━━━━━━━━━━━━━━━━━━━━━━━━━━━━━━━━━━\u001b[0m \u001b[32m384.9/384.9 kB\u001b[0m \u001b[31m19.9 MB/s\u001b[0m eta \u001b[36m0:00:00\u001b[0m\n",
      "\u001b[?25hCollecting trio-websocket~=0.9 (from selenium)\n",
      "  Downloading trio_websocket-0.10.2-py3-none-any.whl (17 kB)\n",
      "Requirement already satisfied: certifi>=2021.10.8 in /usr/local/lib/python3.10/dist-packages (from selenium) (2022.12.7)\n",
      "Requirement already satisfied: attrs>=19.2.0 in /usr/local/lib/python3.10/dist-packages (from trio~=0.17->selenium) (23.1.0)\n",
      "Requirement already satisfied: sortedcontainers in /usr/local/lib/python3.10/dist-packages (from trio~=0.17->selenium) (2.4.0)\n",
      "Collecting async-generator>=1.9 (from trio~=0.17->selenium)\n",
      "  Downloading async_generator-1.10-py3-none-any.whl (18 kB)\n",
      "Requirement already satisfied: idna in /usr/local/lib/python3.10/dist-packages (from trio~=0.17->selenium) (3.4)\n",
      "Collecting outcome (from trio~=0.17->selenium)\n",
      "  Downloading outcome-1.2.0-py2.py3-none-any.whl (9.7 kB)\n",
      "Requirement already satisfied: sniffio in /usr/local/lib/python3.10/dist-packages (from trio~=0.17->selenium) (1.3.0)\n",
      "Requirement already satisfied: exceptiongroup>=1.0.0rc9 in /usr/local/lib/python3.10/dist-packages (from trio~=0.17->selenium) (1.1.1)\n",
      "Collecting wsproto>=0.14 (from trio-websocket~=0.9->selenium)\n",
      "  Downloading wsproto-1.2.0-py3-none-any.whl (24 kB)\n",
      "Requirement already satisfied: PySocks!=1.5.7,<2.0,>=1.5.6 in /usr/local/lib/python3.10/dist-packages (from urllib3[socks]<3,>=1.26->selenium) (1.7.1)\n",
      "Collecting h11<1,>=0.9.0 (from wsproto>=0.14->trio-websocket~=0.9->selenium)\n",
      "  Downloading h11-0.14.0-py3-none-any.whl (58 kB)\n",
      "\u001b[2K     \u001b[90m━━━━━━━━━━━━━━━━━━━━━━━━━━━━━━━━━━━━━━━━\u001b[0m \u001b[32m58.3/58.3 kB\u001b[0m \u001b[31m5.7 MB/s\u001b[0m eta \u001b[36m0:00:00\u001b[0m\n",
      "\u001b[?25hInstalling collected packages: outcome, h11, async-generator, wsproto, trio, trio-websocket, selenium\n",
      "Successfully installed async-generator-1.10 h11-0.14.0 outcome-1.2.0 selenium-4.9.1 trio-0.22.0 trio-websocket-0.10.2 wsproto-1.2.0\n",
      "Looking in indexes: https://pypi.org/simple, https://us-python.pkg.dev/colab-wheels/public/simple/\n",
      "Requirement already satisfied: missingno in /usr/local/lib/python3.10/dist-packages (0.5.2)\n",
      "Requirement already satisfied: numpy in /usr/local/lib/python3.10/dist-packages (from missingno) (1.22.4)\n",
      "Requirement already satisfied: matplotlib in /usr/local/lib/python3.10/dist-packages (from missingno) (3.7.1)\n",
      "Requirement already satisfied: scipy in /usr/local/lib/python3.10/dist-packages (from missingno) (1.10.1)\n",
      "Requirement already satisfied: seaborn in /usr/local/lib/python3.10/dist-packages (from missingno) (0.12.2)\n",
      "Requirement already satisfied: contourpy>=1.0.1 in /usr/local/lib/python3.10/dist-packages (from matplotlib->missingno) (1.0.7)\n",
      "Requirement already satisfied: cycler>=0.10 in /usr/local/lib/python3.10/dist-packages (from matplotlib->missingno) (0.11.0)\n",
      "Requirement already satisfied: fonttools>=4.22.0 in /usr/local/lib/python3.10/dist-packages (from matplotlib->missingno) (4.39.3)\n",
      "Requirement already satisfied: kiwisolver>=1.0.1 in /usr/local/lib/python3.10/dist-packages (from matplotlib->missingno) (1.4.4)\n",
      "Requirement already satisfied: packaging>=20.0 in /usr/local/lib/python3.10/dist-packages (from matplotlib->missingno) (23.1)\n",
      "Requirement already satisfied: pillow>=6.2.0 in /usr/local/lib/python3.10/dist-packages (from matplotlib->missingno) (8.4.0)\n",
      "Requirement already satisfied: pyparsing>=2.3.1 in /usr/local/lib/python3.10/dist-packages (from matplotlib->missingno) (3.0.9)\n",
      "Requirement already satisfied: python-dateutil>=2.7 in /usr/local/lib/python3.10/dist-packages (from matplotlib->missingno) (2.8.2)\n",
      "Requirement already satisfied: pandas>=0.25 in /usr/local/lib/python3.10/dist-packages (from seaborn->missingno) (1.5.3)\n",
      "Requirement already satisfied: pytz>=2020.1 in /usr/local/lib/python3.10/dist-packages (from pandas>=0.25->seaborn->missingno) (2022.7.1)\n",
      "Requirement already satisfied: six>=1.5 in /usr/local/lib/python3.10/dist-packages (from python-dateutil>=2.7->matplotlib->missingno) (1.16.0)\n"
     ]
    }
   ],
   "source": [
    "!pip install requests\n",
    "!pip install bs4\n",
    "!pip install lxml\n",
    "!pip install selenium\n",
    "!pip install missingno"
   ]
  },
  {
   "cell_type": "markdown",
   "id": "7fa7c728",
   "metadata": {
    "id": "7fa7c728"
   },
   "source": [
    "Подгружаем нужные библиотеки"
   ]
  },
  {
   "cell_type": "code",
   "execution_count": 1,
   "id": "327d341f",
   "metadata": {
    "id": "327d341f"
   },
   "outputs": [],
   "source": [
    "#подгружаем нужные библиотеки\n",
    "import requests\n",
    "from bs4 import BeautifulSoup as bs\n",
    "import pandas as pd\n",
    "import numpy as np\n",
    "import missingno as msno\n",
    "import matplotlib.pyplot as plt\n",
    "import seaborn as sns"
   ]
  },
  {
   "cell_type": "markdown",
   "id": "1946a772",
   "metadata": {
    "id": "1946a772"
   },
   "source": [
    "Собираем ссылки на объявления"
   ]
  },
  {
   "cell_type": "code",
   "execution_count": null,
   "id": "7b11ef38",
   "metadata": {
    "id": "7b11ef38"
   },
   "outputs": [],
   "source": [
    "links = []\n",
    "for i in range(100):\n",
    "    #будем рабоать со страницей + номер страницы:\n",
    "    link = 'https://moscow.drom.ru/auto/all/page' + str(i)\n",
    "    \n",
    "    #для начала отправляем запрос\n",
    "    responce = requests.get(link).text\n",
    "\n",
    "    #создаем объект (в качестве аргументов - значение аштимл и с помощью классов мы можем находить нужное значение на странице)\n",
    "    soup = bs(responce, 'lxml')\n",
    "\n",
    "    #достаем наш блок с данными, на странице объявления в нескольких блоках, поэтому будем использовать find_all\n",
    "    block = soup.find_all('div', class_ = \"css-1nvf6xk eojktn00\")\n",
    "    \n",
    "    #служебный массив\n",
    "    mass = []\n",
    "    \n",
    "    #перебираем в block и ищем наш разделитель - а, в нем получаем href и записываем в служебный массив\n",
    "    for i in block:\n",
    "        a = i.find_all('a')\n",
    "        for j in a:\n",
    "            mass.append(j.get('href'))\n",
    "            \n",
    "    #срезаем лишнее\n",
    "    mass = mass[:20]\n",
    "    \n",
    "    #записываем наши ссылки в конечный массив\n",
    "    for i in mass:\n",
    "        links.append(i)"
   ]
  },
  {
   "cell_type": "code",
   "execution_count": null,
   "id": "216dadfe",
   "metadata": {
    "id": "216dadfe"
   },
   "outputs": [],
   "source": [
    "#создаем нашу таблицу\n",
    "df = pd.DataFrame(columns = ['Название', \n",
    "                             'Год', \n",
    "                             'Топливо', \n",
    "                             'Объем двигателя', \n",
    "                             'Мощность', \n",
    "                             'Коробка передач', \n",
    "                             'Привод', \n",
    "                             'Цвет', \n",
    "                             'Пробег',\n",
    "                             'Руль',\n",
    "                             'Оценка Drom',\n",
    "                             'Цена'])"
   ]
  },
  {
   "cell_type": "code",
   "execution_count": null,
   "id": "33910241",
   "metadata": {
    "colab": {
     "base_uri": "https://localhost:8080/",
     "height": 380
    },
    "id": "33910241",
    "outputId": "46f60274-206a-41e2-bf5e-d0b68750aa15"
   },
   "outputs": [
    {
     "ename": "KeyboardInterrupt",
     "evalue": "ignored",
     "output_type": "error",
     "traceback": [
      "\u001b[0;31m---------------------------------------------------------------------------\u001b[0m",
      "\u001b[0;31mKeyboardInterrupt\u001b[0m                         Traceback (most recent call last)",
      "\u001b[0;32m<ipython-input-8-86d0cec9305e>\u001b[0m in \u001b[0;36m<cell line: 4>\u001b[0;34m()\u001b[0m\n\u001b[1;32m      3\u001b[0m \u001b[0;31m#перебираем все ссылки в нашем массиве и создаем наш soup для каждой ссылки\u001b[0m\u001b[0;34m\u001b[0m\u001b[0;34m\u001b[0m\u001b[0m\n\u001b[1;32m      4\u001b[0m \u001b[0;32mfor\u001b[0m \u001b[0mlink\u001b[0m \u001b[0;32min\u001b[0m \u001b[0mlinks\u001b[0m\u001b[0;34m:\u001b[0m\u001b[0;34m\u001b[0m\u001b[0;34m\u001b[0m\u001b[0m\n\u001b[0;32m----> 5\u001b[0;31m     \u001b[0mresponce\u001b[0m \u001b[0;34m=\u001b[0m \u001b[0mrequests\u001b[0m\u001b[0;34m.\u001b[0m\u001b[0mget\u001b[0m\u001b[0;34m(\u001b[0m\u001b[0mlink\u001b[0m\u001b[0;34m)\u001b[0m\u001b[0;34m.\u001b[0m\u001b[0mtext\u001b[0m\u001b[0;34m\u001b[0m\u001b[0;34m\u001b[0m\u001b[0m\n\u001b[0m\u001b[1;32m      6\u001b[0m     \u001b[0msoup\u001b[0m \u001b[0;34m=\u001b[0m \u001b[0mbs\u001b[0m\u001b[0;34m(\u001b[0m\u001b[0mresponce\u001b[0m\u001b[0;34m,\u001b[0m \u001b[0;34m'lxml'\u001b[0m\u001b[0;34m)\u001b[0m\u001b[0;34m\u001b[0m\u001b[0;34m\u001b[0m\u001b[0m\n\u001b[1;32m      7\u001b[0m \u001b[0;34m\u001b[0m\u001b[0m\n",
      "\u001b[0;32m/usr/local/lib/python3.10/dist-packages/requests/api.py\u001b[0m in \u001b[0;36mget\u001b[0;34m(url, params, **kwargs)\u001b[0m\n\u001b[1;32m     73\u001b[0m     \"\"\"\n\u001b[1;32m     74\u001b[0m \u001b[0;34m\u001b[0m\u001b[0m\n\u001b[0;32m---> 75\u001b[0;31m     \u001b[0;32mreturn\u001b[0m \u001b[0mrequest\u001b[0m\u001b[0;34m(\u001b[0m\u001b[0;34m'get'\u001b[0m\u001b[0;34m,\u001b[0m \u001b[0murl\u001b[0m\u001b[0;34m,\u001b[0m \u001b[0mparams\u001b[0m\u001b[0;34m=\u001b[0m\u001b[0mparams\u001b[0m\u001b[0;34m,\u001b[0m \u001b[0;34m**\u001b[0m\u001b[0mkwargs\u001b[0m\u001b[0;34m)\u001b[0m\u001b[0;34m\u001b[0m\u001b[0;34m\u001b[0m\u001b[0m\n\u001b[0m\u001b[1;32m     76\u001b[0m \u001b[0;34m\u001b[0m\u001b[0m\n\u001b[1;32m     77\u001b[0m \u001b[0;34m\u001b[0m\u001b[0m\n",
      "\u001b[0;32m/usr/local/lib/python3.10/dist-packages/requests/api.py\u001b[0m in \u001b[0;36mrequest\u001b[0;34m(method, url, **kwargs)\u001b[0m\n\u001b[1;32m     59\u001b[0m     \u001b[0;31m# cases, and look like a memory leak in others.\u001b[0m\u001b[0;34m\u001b[0m\u001b[0;34m\u001b[0m\u001b[0m\n\u001b[1;32m     60\u001b[0m     \u001b[0;32mwith\u001b[0m \u001b[0msessions\u001b[0m\u001b[0;34m.\u001b[0m\u001b[0mSession\u001b[0m\u001b[0;34m(\u001b[0m\u001b[0;34m)\u001b[0m \u001b[0;32mas\u001b[0m \u001b[0msession\u001b[0m\u001b[0;34m:\u001b[0m\u001b[0;34m\u001b[0m\u001b[0;34m\u001b[0m\u001b[0m\n\u001b[0;32m---> 61\u001b[0;31m         \u001b[0;32mreturn\u001b[0m \u001b[0msession\u001b[0m\u001b[0;34m.\u001b[0m\u001b[0mrequest\u001b[0m\u001b[0;34m(\u001b[0m\u001b[0mmethod\u001b[0m\u001b[0;34m=\u001b[0m\u001b[0mmethod\u001b[0m\u001b[0;34m,\u001b[0m \u001b[0murl\u001b[0m\u001b[0;34m=\u001b[0m\u001b[0murl\u001b[0m\u001b[0;34m,\u001b[0m \u001b[0;34m**\u001b[0m\u001b[0mkwargs\u001b[0m\u001b[0;34m)\u001b[0m\u001b[0;34m\u001b[0m\u001b[0;34m\u001b[0m\u001b[0m\n\u001b[0m\u001b[1;32m     62\u001b[0m \u001b[0;34m\u001b[0m\u001b[0m\n\u001b[1;32m     63\u001b[0m \u001b[0;34m\u001b[0m\u001b[0m\n",
      "\u001b[0;32m/usr/local/lib/python3.10/dist-packages/requests/sessions.py\u001b[0m in \u001b[0;36mrequest\u001b[0;34m(self, method, url, params, data, headers, cookies, files, auth, timeout, allow_redirects, proxies, hooks, stream, verify, cert, json)\u001b[0m\n\u001b[1;32m    527\u001b[0m         }\n\u001b[1;32m    528\u001b[0m         \u001b[0msend_kwargs\u001b[0m\u001b[0;34m.\u001b[0m\u001b[0mupdate\u001b[0m\u001b[0;34m(\u001b[0m\u001b[0msettings\u001b[0m\u001b[0;34m)\u001b[0m\u001b[0;34m\u001b[0m\u001b[0;34m\u001b[0m\u001b[0m\n\u001b[0;32m--> 529\u001b[0;31m         \u001b[0mresp\u001b[0m \u001b[0;34m=\u001b[0m \u001b[0mself\u001b[0m\u001b[0;34m.\u001b[0m\u001b[0msend\u001b[0m\u001b[0;34m(\u001b[0m\u001b[0mprep\u001b[0m\u001b[0;34m,\u001b[0m \u001b[0;34m**\u001b[0m\u001b[0msend_kwargs\u001b[0m\u001b[0;34m)\u001b[0m\u001b[0;34m\u001b[0m\u001b[0;34m\u001b[0m\u001b[0m\n\u001b[0m\u001b[1;32m    530\u001b[0m \u001b[0;34m\u001b[0m\u001b[0m\n\u001b[1;32m    531\u001b[0m         \u001b[0;32mreturn\u001b[0m \u001b[0mresp\u001b[0m\u001b[0;34m\u001b[0m\u001b[0;34m\u001b[0m\u001b[0m\n",
      "\u001b[0;32m/usr/local/lib/python3.10/dist-packages/requests/sessions.py\u001b[0m in \u001b[0;36msend\u001b[0;34m(self, request, **kwargs)\u001b[0m\n\u001b[1;32m    643\u001b[0m \u001b[0;34m\u001b[0m\u001b[0m\n\u001b[1;32m    644\u001b[0m         \u001b[0;31m# Send the request\u001b[0m\u001b[0;34m\u001b[0m\u001b[0;34m\u001b[0m\u001b[0m\n\u001b[0;32m--> 645\u001b[0;31m         \u001b[0mr\u001b[0m \u001b[0;34m=\u001b[0m \u001b[0madapter\u001b[0m\u001b[0;34m.\u001b[0m\u001b[0msend\u001b[0m\u001b[0;34m(\u001b[0m\u001b[0mrequest\u001b[0m\u001b[0;34m,\u001b[0m \u001b[0;34m**\u001b[0m\u001b[0mkwargs\u001b[0m\u001b[0;34m)\u001b[0m\u001b[0;34m\u001b[0m\u001b[0;34m\u001b[0m\u001b[0m\n\u001b[0m\u001b[1;32m    646\u001b[0m \u001b[0;34m\u001b[0m\u001b[0m\n\u001b[1;32m    647\u001b[0m         \u001b[0;31m# Total elapsed time of the request (approximately)\u001b[0m\u001b[0;34m\u001b[0m\u001b[0;34m\u001b[0m\u001b[0m\n",
      "\u001b[0;32m/usr/local/lib/python3.10/dist-packages/requests/adapters.py\u001b[0m in \u001b[0;36msend\u001b[0;34m(self, request, stream, timeout, verify, cert, proxies)\u001b[0m\n\u001b[1;32m    438\u001b[0m         \u001b[0;32mtry\u001b[0m\u001b[0;34m:\u001b[0m\u001b[0;34m\u001b[0m\u001b[0;34m\u001b[0m\u001b[0m\n\u001b[1;32m    439\u001b[0m             \u001b[0;32mif\u001b[0m \u001b[0;32mnot\u001b[0m \u001b[0mchunked\u001b[0m\u001b[0;34m:\u001b[0m\u001b[0;34m\u001b[0m\u001b[0;34m\u001b[0m\u001b[0m\n\u001b[0;32m--> 440\u001b[0;31m                 resp = conn.urlopen(\n\u001b[0m\u001b[1;32m    441\u001b[0m                     \u001b[0mmethod\u001b[0m\u001b[0;34m=\u001b[0m\u001b[0mrequest\u001b[0m\u001b[0;34m.\u001b[0m\u001b[0mmethod\u001b[0m\u001b[0;34m,\u001b[0m\u001b[0;34m\u001b[0m\u001b[0;34m\u001b[0m\u001b[0m\n\u001b[1;32m    442\u001b[0m                     \u001b[0murl\u001b[0m\u001b[0;34m=\u001b[0m\u001b[0murl\u001b[0m\u001b[0;34m,\u001b[0m\u001b[0;34m\u001b[0m\u001b[0;34m\u001b[0m\u001b[0m\n",
      "\u001b[0;32m/usr/local/lib/python3.10/dist-packages/urllib3/connectionpool.py\u001b[0m in \u001b[0;36murlopen\u001b[0;34m(self, method, url, body, headers, retries, redirect, assert_same_host, timeout, pool_timeout, release_conn, chunked, body_pos, **response_kw)\u001b[0m\n\u001b[1;32m    701\u001b[0m \u001b[0;34m\u001b[0m\u001b[0m\n\u001b[1;32m    702\u001b[0m             \u001b[0;31m# Make the request on the httplib connection object.\u001b[0m\u001b[0;34m\u001b[0m\u001b[0;34m\u001b[0m\u001b[0m\n\u001b[0;32m--> 703\u001b[0;31m             httplib_response = self._make_request(\n\u001b[0m\u001b[1;32m    704\u001b[0m                 \u001b[0mconn\u001b[0m\u001b[0;34m,\u001b[0m\u001b[0;34m\u001b[0m\u001b[0;34m\u001b[0m\u001b[0m\n\u001b[1;32m    705\u001b[0m                 \u001b[0mmethod\u001b[0m\u001b[0;34m,\u001b[0m\u001b[0;34m\u001b[0m\u001b[0;34m\u001b[0m\u001b[0m\n",
      "\u001b[0;32m/usr/local/lib/python3.10/dist-packages/urllib3/connectionpool.py\u001b[0m in \u001b[0;36m_make_request\u001b[0;34m(self, conn, method, url, timeout, chunked, **httplib_request_kw)\u001b[0m\n\u001b[1;32m    447\u001b[0m                     \u001b[0;31m# Python 3 (including for exceptions like SystemExit).\u001b[0m\u001b[0;34m\u001b[0m\u001b[0;34m\u001b[0m\u001b[0m\n\u001b[1;32m    448\u001b[0m                     \u001b[0;31m# Otherwise it looks like a bug in the code.\u001b[0m\u001b[0;34m\u001b[0m\u001b[0;34m\u001b[0m\u001b[0m\n\u001b[0;32m--> 449\u001b[0;31m                     \u001b[0msix\u001b[0m\u001b[0;34m.\u001b[0m\u001b[0mraise_from\u001b[0m\u001b[0;34m(\u001b[0m\u001b[0me\u001b[0m\u001b[0;34m,\u001b[0m \u001b[0;32mNone\u001b[0m\u001b[0;34m)\u001b[0m\u001b[0;34m\u001b[0m\u001b[0;34m\u001b[0m\u001b[0m\n\u001b[0m\u001b[1;32m    450\u001b[0m         \u001b[0;32mexcept\u001b[0m \u001b[0;34m(\u001b[0m\u001b[0mSocketTimeout\u001b[0m\u001b[0;34m,\u001b[0m \u001b[0mBaseSSLError\u001b[0m\u001b[0;34m,\u001b[0m \u001b[0mSocketError\u001b[0m\u001b[0;34m)\u001b[0m \u001b[0;32mas\u001b[0m \u001b[0me\u001b[0m\u001b[0;34m:\u001b[0m\u001b[0;34m\u001b[0m\u001b[0;34m\u001b[0m\u001b[0m\n\u001b[1;32m    451\u001b[0m             \u001b[0mself\u001b[0m\u001b[0;34m.\u001b[0m\u001b[0m_raise_timeout\u001b[0m\u001b[0;34m(\u001b[0m\u001b[0merr\u001b[0m\u001b[0;34m=\u001b[0m\u001b[0me\u001b[0m\u001b[0;34m,\u001b[0m \u001b[0murl\u001b[0m\u001b[0;34m=\u001b[0m\u001b[0murl\u001b[0m\u001b[0;34m,\u001b[0m \u001b[0mtimeout_value\u001b[0m\u001b[0;34m=\u001b[0m\u001b[0mread_timeout\u001b[0m\u001b[0;34m)\u001b[0m\u001b[0;34m\u001b[0m\u001b[0;34m\u001b[0m\u001b[0m\n",
      "\u001b[0;32m/usr/local/lib/python3.10/dist-packages/urllib3/packages/six.py\u001b[0m in \u001b[0;36mraise_from\u001b[0;34m(value, from_value)\u001b[0m\n",
      "\u001b[0;32m/usr/local/lib/python3.10/dist-packages/urllib3/connectionpool.py\u001b[0m in \u001b[0;36m_make_request\u001b[0;34m(self, conn, method, url, timeout, chunked, **httplib_request_kw)\u001b[0m\n\u001b[1;32m    442\u001b[0m                 \u001b[0;31m# Python 3\u001b[0m\u001b[0;34m\u001b[0m\u001b[0;34m\u001b[0m\u001b[0m\n\u001b[1;32m    443\u001b[0m                 \u001b[0;32mtry\u001b[0m\u001b[0;34m:\u001b[0m\u001b[0;34m\u001b[0m\u001b[0;34m\u001b[0m\u001b[0m\n\u001b[0;32m--> 444\u001b[0;31m                     \u001b[0mhttplib_response\u001b[0m \u001b[0;34m=\u001b[0m \u001b[0mconn\u001b[0m\u001b[0;34m.\u001b[0m\u001b[0mgetresponse\u001b[0m\u001b[0;34m(\u001b[0m\u001b[0;34m)\u001b[0m\u001b[0;34m\u001b[0m\u001b[0;34m\u001b[0m\u001b[0m\n\u001b[0m\u001b[1;32m    445\u001b[0m                 \u001b[0;32mexcept\u001b[0m \u001b[0mBaseException\u001b[0m \u001b[0;32mas\u001b[0m \u001b[0me\u001b[0m\u001b[0;34m:\u001b[0m\u001b[0;34m\u001b[0m\u001b[0;34m\u001b[0m\u001b[0m\n\u001b[1;32m    446\u001b[0m                     \u001b[0;31m# Remove the TypeError from the exception chain in\u001b[0m\u001b[0;34m\u001b[0m\u001b[0;34m\u001b[0m\u001b[0m\n",
      "\u001b[0;32m/usr/lib/python3.10/http/client.py\u001b[0m in \u001b[0;36mgetresponse\u001b[0;34m(self)\u001b[0m\n\u001b[1;32m   1373\u001b[0m         \u001b[0;32mtry\u001b[0m\u001b[0;34m:\u001b[0m\u001b[0;34m\u001b[0m\u001b[0;34m\u001b[0m\u001b[0m\n\u001b[1;32m   1374\u001b[0m             \u001b[0;32mtry\u001b[0m\u001b[0;34m:\u001b[0m\u001b[0;34m\u001b[0m\u001b[0;34m\u001b[0m\u001b[0m\n\u001b[0;32m-> 1375\u001b[0;31m                 \u001b[0mresponse\u001b[0m\u001b[0;34m.\u001b[0m\u001b[0mbegin\u001b[0m\u001b[0;34m(\u001b[0m\u001b[0;34m)\u001b[0m\u001b[0;34m\u001b[0m\u001b[0;34m\u001b[0m\u001b[0m\n\u001b[0m\u001b[1;32m   1376\u001b[0m             \u001b[0;32mexcept\u001b[0m \u001b[0mConnectionError\u001b[0m\u001b[0;34m:\u001b[0m\u001b[0;34m\u001b[0m\u001b[0;34m\u001b[0m\u001b[0m\n\u001b[1;32m   1377\u001b[0m                 \u001b[0mself\u001b[0m\u001b[0;34m.\u001b[0m\u001b[0mclose\u001b[0m\u001b[0;34m(\u001b[0m\u001b[0;34m)\u001b[0m\u001b[0;34m\u001b[0m\u001b[0;34m\u001b[0m\u001b[0m\n",
      "\u001b[0;32m/usr/lib/python3.10/http/client.py\u001b[0m in \u001b[0;36mbegin\u001b[0;34m(self)\u001b[0m\n\u001b[1;32m    316\u001b[0m         \u001b[0;31m# read until we get a non-100 response\u001b[0m\u001b[0;34m\u001b[0m\u001b[0;34m\u001b[0m\u001b[0m\n\u001b[1;32m    317\u001b[0m         \u001b[0;32mwhile\u001b[0m \u001b[0;32mTrue\u001b[0m\u001b[0;34m:\u001b[0m\u001b[0;34m\u001b[0m\u001b[0;34m\u001b[0m\u001b[0m\n\u001b[0;32m--> 318\u001b[0;31m             \u001b[0mversion\u001b[0m\u001b[0;34m,\u001b[0m \u001b[0mstatus\u001b[0m\u001b[0;34m,\u001b[0m \u001b[0mreason\u001b[0m \u001b[0;34m=\u001b[0m \u001b[0mself\u001b[0m\u001b[0;34m.\u001b[0m\u001b[0m_read_status\u001b[0m\u001b[0;34m(\u001b[0m\u001b[0;34m)\u001b[0m\u001b[0;34m\u001b[0m\u001b[0;34m\u001b[0m\u001b[0m\n\u001b[0m\u001b[1;32m    319\u001b[0m             \u001b[0;32mif\u001b[0m \u001b[0mstatus\u001b[0m \u001b[0;34m!=\u001b[0m \u001b[0mCONTINUE\u001b[0m\u001b[0;34m:\u001b[0m\u001b[0;34m\u001b[0m\u001b[0;34m\u001b[0m\u001b[0m\n\u001b[1;32m    320\u001b[0m                 \u001b[0;32mbreak\u001b[0m\u001b[0;34m\u001b[0m\u001b[0;34m\u001b[0m\u001b[0m\n",
      "\u001b[0;32m/usr/lib/python3.10/http/client.py\u001b[0m in \u001b[0;36m_read_status\u001b[0;34m(self)\u001b[0m\n\u001b[1;32m    277\u001b[0m \u001b[0;34m\u001b[0m\u001b[0m\n\u001b[1;32m    278\u001b[0m     \u001b[0;32mdef\u001b[0m \u001b[0m_read_status\u001b[0m\u001b[0;34m(\u001b[0m\u001b[0mself\u001b[0m\u001b[0;34m)\u001b[0m\u001b[0;34m:\u001b[0m\u001b[0;34m\u001b[0m\u001b[0;34m\u001b[0m\u001b[0m\n\u001b[0;32m--> 279\u001b[0;31m         \u001b[0mline\u001b[0m \u001b[0;34m=\u001b[0m \u001b[0mstr\u001b[0m\u001b[0;34m(\u001b[0m\u001b[0mself\u001b[0m\u001b[0;34m.\u001b[0m\u001b[0mfp\u001b[0m\u001b[0;34m.\u001b[0m\u001b[0mreadline\u001b[0m\u001b[0;34m(\u001b[0m\u001b[0m_MAXLINE\u001b[0m \u001b[0;34m+\u001b[0m \u001b[0;36m1\u001b[0m\u001b[0;34m)\u001b[0m\u001b[0;34m,\u001b[0m \u001b[0;34m\"iso-8859-1\"\u001b[0m\u001b[0;34m)\u001b[0m\u001b[0;34m\u001b[0m\u001b[0;34m\u001b[0m\u001b[0m\n\u001b[0m\u001b[1;32m    280\u001b[0m         \u001b[0;32mif\u001b[0m \u001b[0mlen\u001b[0m\u001b[0;34m(\u001b[0m\u001b[0mline\u001b[0m\u001b[0;34m)\u001b[0m \u001b[0;34m>\u001b[0m \u001b[0m_MAXLINE\u001b[0m\u001b[0;34m:\u001b[0m\u001b[0;34m\u001b[0m\u001b[0;34m\u001b[0m\u001b[0m\n\u001b[1;32m    281\u001b[0m             \u001b[0;32mraise\u001b[0m \u001b[0mLineTooLong\u001b[0m\u001b[0;34m(\u001b[0m\u001b[0;34m\"status line\"\u001b[0m\u001b[0;34m)\u001b[0m\u001b[0;34m\u001b[0m\u001b[0;34m\u001b[0m\u001b[0m\n",
      "\u001b[0;32m/usr/lib/python3.10/socket.py\u001b[0m in \u001b[0;36mreadinto\u001b[0;34m(self, b)\u001b[0m\n\u001b[1;32m    703\u001b[0m         \u001b[0;32mwhile\u001b[0m \u001b[0;32mTrue\u001b[0m\u001b[0;34m:\u001b[0m\u001b[0;34m\u001b[0m\u001b[0;34m\u001b[0m\u001b[0m\n\u001b[1;32m    704\u001b[0m             \u001b[0;32mtry\u001b[0m\u001b[0;34m:\u001b[0m\u001b[0;34m\u001b[0m\u001b[0;34m\u001b[0m\u001b[0m\n\u001b[0;32m--> 705\u001b[0;31m                 \u001b[0;32mreturn\u001b[0m \u001b[0mself\u001b[0m\u001b[0;34m.\u001b[0m\u001b[0m_sock\u001b[0m\u001b[0;34m.\u001b[0m\u001b[0mrecv_into\u001b[0m\u001b[0;34m(\u001b[0m\u001b[0mb\u001b[0m\u001b[0;34m)\u001b[0m\u001b[0;34m\u001b[0m\u001b[0;34m\u001b[0m\u001b[0m\n\u001b[0m\u001b[1;32m    706\u001b[0m             \u001b[0;32mexcept\u001b[0m \u001b[0mtimeout\u001b[0m\u001b[0;34m:\u001b[0m\u001b[0;34m\u001b[0m\u001b[0;34m\u001b[0m\u001b[0m\n\u001b[1;32m    707\u001b[0m                 \u001b[0mself\u001b[0m\u001b[0;34m.\u001b[0m\u001b[0m_timeout_occurred\u001b[0m \u001b[0;34m=\u001b[0m \u001b[0;32mTrue\u001b[0m\u001b[0;34m\u001b[0m\u001b[0;34m\u001b[0m\u001b[0m\n",
      "\u001b[0;32m/usr/lib/python3.10/ssl.py\u001b[0m in \u001b[0;36mrecv_into\u001b[0;34m(self, buffer, nbytes, flags)\u001b[0m\n\u001b[1;32m   1272\u001b[0m                   \u001b[0;34m\"non-zero flags not allowed in calls to recv_into() on %s\"\u001b[0m \u001b[0;34m%\u001b[0m\u001b[0;34m\u001b[0m\u001b[0;34m\u001b[0m\u001b[0m\n\u001b[1;32m   1273\u001b[0m                   self.__class__)\n\u001b[0;32m-> 1274\u001b[0;31m             \u001b[0;32mreturn\u001b[0m \u001b[0mself\u001b[0m\u001b[0;34m.\u001b[0m\u001b[0mread\u001b[0m\u001b[0;34m(\u001b[0m\u001b[0mnbytes\u001b[0m\u001b[0;34m,\u001b[0m \u001b[0mbuffer\u001b[0m\u001b[0;34m)\u001b[0m\u001b[0;34m\u001b[0m\u001b[0;34m\u001b[0m\u001b[0m\n\u001b[0m\u001b[1;32m   1275\u001b[0m         \u001b[0;32melse\u001b[0m\u001b[0;34m:\u001b[0m\u001b[0;34m\u001b[0m\u001b[0;34m\u001b[0m\u001b[0m\n\u001b[1;32m   1276\u001b[0m             \u001b[0;32mreturn\u001b[0m \u001b[0msuper\u001b[0m\u001b[0;34m(\u001b[0m\u001b[0;34m)\u001b[0m\u001b[0;34m.\u001b[0m\u001b[0mrecv_into\u001b[0m\u001b[0;34m(\u001b[0m\u001b[0mbuffer\u001b[0m\u001b[0;34m,\u001b[0m \u001b[0mnbytes\u001b[0m\u001b[0;34m,\u001b[0m \u001b[0mflags\u001b[0m\u001b[0;34m)\u001b[0m\u001b[0;34m\u001b[0m\u001b[0;34m\u001b[0m\u001b[0m\n",
      "\u001b[0;32m/usr/lib/python3.10/ssl.py\u001b[0m in \u001b[0;36mread\u001b[0;34m(self, len, buffer)\u001b[0m\n\u001b[1;32m   1128\u001b[0m         \u001b[0;32mtry\u001b[0m\u001b[0;34m:\u001b[0m\u001b[0;34m\u001b[0m\u001b[0;34m\u001b[0m\u001b[0m\n\u001b[1;32m   1129\u001b[0m             \u001b[0;32mif\u001b[0m \u001b[0mbuffer\u001b[0m \u001b[0;32mis\u001b[0m \u001b[0;32mnot\u001b[0m \u001b[0;32mNone\u001b[0m\u001b[0;34m:\u001b[0m\u001b[0;34m\u001b[0m\u001b[0;34m\u001b[0m\u001b[0m\n\u001b[0;32m-> 1130\u001b[0;31m                 \u001b[0;32mreturn\u001b[0m \u001b[0mself\u001b[0m\u001b[0;34m.\u001b[0m\u001b[0m_sslobj\u001b[0m\u001b[0;34m.\u001b[0m\u001b[0mread\u001b[0m\u001b[0;34m(\u001b[0m\u001b[0mlen\u001b[0m\u001b[0;34m,\u001b[0m \u001b[0mbuffer\u001b[0m\u001b[0;34m)\u001b[0m\u001b[0;34m\u001b[0m\u001b[0;34m\u001b[0m\u001b[0m\n\u001b[0m\u001b[1;32m   1131\u001b[0m             \u001b[0;32melse\u001b[0m\u001b[0;34m:\u001b[0m\u001b[0;34m\u001b[0m\u001b[0;34m\u001b[0m\u001b[0m\n\u001b[1;32m   1132\u001b[0m                 \u001b[0;32mreturn\u001b[0m \u001b[0mself\u001b[0m\u001b[0;34m.\u001b[0m\u001b[0m_sslobj\u001b[0m\u001b[0;34m.\u001b[0m\u001b[0mread\u001b[0m\u001b[0;34m(\u001b[0m\u001b[0mlen\u001b[0m\u001b[0;34m)\u001b[0m\u001b[0;34m\u001b[0m\u001b[0;34m\u001b[0m\u001b[0m\n",
      "\u001b[0;31mKeyboardInterrupt\u001b[0m: "
     ]
    }
   ],
   "source": [
    "#собираем данные с объявлений и вносим все в таблицу\n",
    "\n",
    "#перебираем все ссылки в нашем массиве и создаем наш soup для каждой ссылки\n",
    "for link in links:\n",
    "    responce = requests.get(link).text\n",
    "    soup = bs(responce, 'lxml')\n",
    "    \n",
    "    #проверяем не снято ли объявление с продажи, если снято - проходим мимо\n",
    "    if 'Автомобиль снят с продажи' in str(soup.find('div', class_ = 'css-1bw6vfx edsrp6u2')):\n",
    "        continue \n",
    "    #находим в soup блок с характеристиками и переделываем в строку\n",
    "    block = str(soup.find('tbody'))\n",
    "\n",
    "    #определяем название и год\n",
    "    col = str(soup.find('span', class_ = 'css-1kb7l9z e162wx9x0'))[44:-20].split(', ')\n",
    "    #случается такое, что по воле божей питон перестает на некоторых объявлениях видеть название. ограничиваем это\n",
    "    if len(col) == 1:\n",
    "        continue\n",
    "    name = col[0]                     #название\n",
    "    year = int(col[1])                   #год\n",
    "\n",
    "    #работаем с данными по двигателю\n",
    "    idx = block.find('Двигатель')\n",
    "    if idx != -1: \n",
    "        engine = block[idx:]\n",
    "        engine = engine[523:]\n",
    "        engine = engine[:engine.find('<')]\n",
    "    else:\n",
    "        engine = ''\n",
    "    if 'ГБО' in engine:\n",
    "        engine = engine[:-5]\n",
    "    if 'гибрид' in engine:\n",
    "        engine = engine[:-8]\n",
    "    mass_fuel = ['бензин', 'дизель', 'электро']\n",
    "    fuel = ''\n",
    "    for i in mass_fuel:\n",
    "        if i in engine:\n",
    "            fuel = i                                                #здесь определили топливо\n",
    "            engine = engine.replace(i, '')[2:]\n",
    "    if len(engine) != 0:\n",
    "        volume = float(engine[:-2])                                 #здесь объем\n",
    "    else:\n",
    "        volume = ''\n",
    "\n",
    "\n",
    "    #работаем по мощности\n",
    "    power = block[block.find('Мощность'):]\n",
    "    power = power[power.find('class=\"css-9g0qum e162wx9x0\">'):][29:]\n",
    "    power = power[:power.find('<!')]\n",
    "    if len(power) >= 1:\n",
    "        if power[0].isdigit() and power[-1].isdigit():\n",
    "            power = int(power)\n",
    "    else:\n",
    "        power = ''\n",
    "\n",
    "    #работаем по коробке передач\n",
    "    idx = block.find('Коробка передач')\n",
    "    transmission = ''\n",
    "    if idx != -1: \n",
    "        transmission = block[idx:][52:]\n",
    "        transmission = transmission[:transmission.find('<')]\n",
    "\n",
    "    #определяем привод\n",
    "    idx = block.find('Привод')\n",
    "    drive = ''\n",
    "    if idx != -1: \n",
    "        drive = block[idx:][43:]\n",
    "        drive = drive[:drive.find('<')]\n",
    "\n",
    "    #определяем цвет\n",
    "    idx = block.find('Цвет')\n",
    "    color = ''\n",
    "    if idx != -1: \n",
    "        color = block[idx:][41:]\n",
    "        color = color[:color.find('<')]\n",
    "\n",
    "    #определяем руль\n",
    "    idx = block.find('Руль')\n",
    "    wheel = ''\n",
    "    if idx != -1: \n",
    "        wheel = block[idx:][41:]\n",
    "        wheel = wheel[:wheel.find('<')]\n",
    "\n",
    "    #определяем пробег\n",
    "    block = soup.find('span', class_ = 'css-1osyw3j ei6iaw00')\n",
    "    mileage_mass = str(block)[35:-7].split('\\xa0')\n",
    "\n",
    "    mileage = ''\n",
    "    for i in mileage_mass:\n",
    "        mileage += i\n",
    "\n",
    "    for i in mileage:\n",
    "        if i.isdigit() == False:\n",
    "            mileage = mileage[:mileage.find('i')]\n",
    "\n",
    "    #определяем цену\n",
    "    price_prep = str(soup.find('div', class_ = 'css-eazmxc e162wx9x0'))[34:-24].split('\\xa0')\n",
    "    price = ''\n",
    "    for i in price_prep:\n",
    "        price += i\n",
    "    price = int(price)\n",
    "\n",
    "    #определяем оценку авто по мнению дром\n",
    "    score = str(soup.find('div', direction='column', class_ = 'css-obi42x eb0sjjd0'))[239:-6]\n",
    "\n",
    "    #записываем собранные данные в список\n",
    "    mass = [name, year, fuel, volume, power, transmission, drive, color, mileage, wheel, score, price]\n",
    "    #добавляем список к таблице\n",
    "    df.loc[len(df.index)] = mass"
   ]
  },
  {
   "cell_type": "code",
   "execution_count": null,
   "id": "0892ac04",
   "metadata": {
    "id": "0892ac04"
   },
   "outputs": [],
   "source": [
    "#сохраняем нашу таблицу\n",
    "df.to_csv('auto3.csv')"
   ]
  },
  {
   "cell_type": "markdown",
   "id": "adb073ed",
   "metadata": {
    "id": "adb073ed"
   },
   "source": [
    "# II) Обработка данных"
   ]
  },
  {
   "cell_type": "code",
   "execution_count": null,
   "id": "adcad34c",
   "metadata": {
    "id": "adcad34c"
   },
   "outputs": [],
   "source": [
    "df_a = pd.read_csv('auto.csv', index_col=[0])\n",
    "df_b = pd.read_csv('auto1.csv', index_col=[0])\n",
    "df_c = pd.read_csv('auto2.csv', index_col=[0])\n",
    "df_d = pd.read_csv('auto3.csv', index_col=[0])\n",
    "# index_col=[0] чтобы не было лишнего столбца unnamed: 0"
   ]
  },
  {
   "cell_type": "markdown",
   "id": "2d2af220",
   "metadata": {
    "id": "2d2af220"
   },
   "source": [
    "Создаем дополнительный датафрейм, который не будем изменять, чтобы сверяться, если что-то пойдет не так"
   ]
  },
  {
   "cell_type": "code",
   "execution_count": null,
   "id": "7ccf6f63",
   "metadata": {
    "id": "7ccf6f63"
   },
   "outputs": [],
   "source": [
    "df_1 = pd.read_csv('auto.csv', index_col=[0])\n",
    "df_2 = pd.read_csv('auto1.csv', index_col=[0])\n",
    "df_3 = pd.read_csv('auto2.csv', index_col=[0])\n",
    "df_4 = pd.read_csv('auto3.csv', index_col=[0])"
   ]
  },
  {
   "cell_type": "code",
   "execution_count": null,
   "id": "aa754ccc",
   "metadata": {
    "id": "aa754ccc"
   },
   "outputs": [],
   "source": [
    "df = pd.concat([df_a, df_b, df_c, df_d], ignore_index=True) # соединяем четыре датафрейма\n",
    "df1 = pd.concat([df_1, df_2, df_3, df_4], ignore_index=True)"
   ]
  },
  {
   "cell_type": "code",
   "execution_count": null,
   "id": "b744c964",
   "metadata": {
    "id": "b744c964"
   },
   "outputs": [],
   "source": [
    "#во-первых, у нас встречаются дубликаты из-за перекупов-дудосатакеров на дроме. Исправляем:\n",
    "df.drop_duplicates(inplace = True, ignore_index = True ) #перезаписываем и сбрасываем индексы\n",
    "df1.drop_duplicates(inplace = True, ignore_index = True )"
   ]
  },
  {
   "cell_type": "code",
   "execution_count": null,
   "id": "2cbe05cd",
   "metadata": {
    "id": "2cbe05cd"
   },
   "outputs": [],
   "source": [
    "#во время парсинга пустые значения заполнялись пустой строкой, по факту это - NaN. Заменим на настоящие NaN\n",
    "df.replace('', np.NaN, inplace = True) #сразу перезаписываем таблицу\n",
    "df1.replace('', np.NaN, inplace = True)"
   ]
  },
  {
   "cell_type": "markdown",
   "id": "36dd78b3",
   "metadata": {
    "id": "36dd78b3"
   },
   "source": [
    "### Что за данные у нас вообще получились?"
   ]
  },
  {
   "cell_type": "code",
   "execution_count": null,
   "id": "521cf0b5",
   "metadata": {
    "id": "521cf0b5"
   },
   "outputs": [],
   "source": [
    "df1.head()"
   ]
  },
  {
   "cell_type": "code",
   "execution_count": null,
   "id": "cc2dab23",
   "metadata": {
    "id": "cc2dab23"
   },
   "outputs": [],
   "source": [
    "df1.describe()"
   ]
  },
  {
   "cell_type": "markdown",
   "id": "73a38fea",
   "metadata": {
    "id": "73a38fea"
   },
   "source": [
    "Ого! на дроме даже продают раритетные тачки!"
   ]
  },
  {
   "cell_type": "code",
   "execution_count": 61,
   "id": "2a4df57d",
   "metadata": {
    "colab": {
     "base_uri": "https://localhost:8080/",
     "height": 81
    },
    "id": "2a4df57d",
    "outputId": "0bac5374-1408-4e76-904a-6e3cdf8caa20"
   },
   "outputs": [
    {
     "data": {
      "text/html": [
       "<div>\n",
       "<style scoped>\n",
       "    .dataframe tbody tr th:only-of-type {\n",
       "        vertical-align: middle;\n",
       "    }\n",
       "\n",
       "    .dataframe tbody tr th {\n",
       "        vertical-align: top;\n",
       "    }\n",
       "\n",
       "    .dataframe thead th {\n",
       "        text-align: right;\n",
       "    }\n",
       "</style>\n",
       "<table border=\"1\" class=\"dataframe\">\n",
       "  <thead>\n",
       "    <tr style=\"text-align: right;\">\n",
       "      <th></th>\n",
       "      <th>Название</th>\n",
       "      <th>Год</th>\n",
       "      <th>Топливо</th>\n",
       "      <th>Объем двигателя</th>\n",
       "      <th>Мощность</th>\n",
       "      <th>Коробка передач</th>\n",
       "      <th>Привод</th>\n",
       "      <th>Цвет</th>\n",
       "      <th>Пробег</th>\n",
       "      <th>Руль</th>\n",
       "      <th>Оценка Drom</th>\n",
       "      <th>Цена</th>\n",
       "    </tr>\n",
       "  </thead>\n",
       "  <tbody>\n",
       "    <tr>\n",
       "      <th>885</th>\n",
       "      <td>BMW 340</td>\n",
       "      <td>1950</td>\n",
       "      <td>бензин</td>\n",
       "      <td>2.00</td>\n",
       "      <td>55.00</td>\n",
       "      <td>механика</td>\n",
       "      <td>задний</td>\n",
       "      <td>черный</td>\n",
       "      <td>50000.00</td>\n",
       "      <td>левый</td>\n",
       "      <td>8.60</td>\n",
       "      <td>5600000</td>\n",
       "    </tr>\n",
       "  </tbody>\n",
       "</table>\n",
       "</div>"
      ],
      "text/plain": [
       "    Название   Год Топливо  Объем двигателя  Мощность Коробка передач  Привод  \\\n",
       "885  BMW 340  1950  бензин             2.00     55.00        механика  задний   \n",
       "\n",
       "       Цвет   Пробег   Руль  Оценка Drom     Цена  \n",
       "885  черный 50000.00  левый         8.60  5600000  "
      ]
     },
     "execution_count": 61,
     "metadata": {},
     "output_type": "execute_result"
    }
   ],
   "source": [
    "df.loc[df['Год'] == 1950]"
   ]
  },
  {
   "cell_type": "markdown",
   "id": "85dced77",
   "metadata": {
    "id": "85dced77"
   },
   "source": [
    "Посмотрим, сколько NaNов в наших столбцах"
   ]
  },
  {
   "cell_type": "code",
   "execution_count": null,
   "id": "0ce17887",
   "metadata": {
    "id": "0ce17887",
    "scrolled": true
   },
   "outputs": [],
   "source": [
    "df1.isnull().sum()"
   ]
  },
  {
   "cell_type": "markdown",
   "id": "b8fbf570",
   "metadata": {
    "id": "b8fbf570"
   },
   "source": [
    "Посмотрим на тепловую карту корреляции пропущенных значений\n",
    "\n",
    "По сути, она показывает насколько сильно присутствие или отсутствие значений одного признака влияет на присутствие значений другого."
   ]
  },
  {
   "cell_type": "code",
   "execution_count": null,
   "id": "f147eaaa",
   "metadata": {
    "id": "f147eaaa"
   },
   "outputs": [],
   "source": [
    "msno.heatmap(df1);"
   ]
  },
  {
   "cell_type": "markdown",
   "id": "4e495b0f",
   "metadata": {
    "id": "4e495b0f"
   },
   "source": [
    "Видно, что есть явная корреляция между приводом и топливом, коробкой передач и мощностью, приводом и топливом"
   ]
  },
  {
   "cell_type": "markdown",
   "id": "7178c085",
   "metadata": {
    "id": "7178c085"
   },
   "source": [
    "Глянем более наглядно на заполненность данных по столбцам"
   ]
  },
  {
   "cell_type": "code",
   "execution_count": null,
   "id": "1e46d33c",
   "metadata": {
    "id": "1e46d33c"
   },
   "outputs": [],
   "source": [
    "msno.matrix(df1);"
   ]
  },
  {
   "cell_type": "markdown",
   "id": "17410a40",
   "metadata": {
    "id": "17410a40"
   },
   "source": [
    "Видно, что больше всего пропусков встречаются в Оценке Drom, Пробеге и Цвете"
   ]
  },
  {
   "cell_type": "markdown",
   "id": "7efe13b6",
   "metadata": {
    "id": "7efe13b6"
   },
   "source": [
    "## Начнем с пробега"
   ]
  },
  {
   "cell_type": "markdown",
   "id": "5a4e6737",
   "metadata": {
    "id": "5a4e6737"
   },
   "source": [
    "Есть подозрение, что пропуски в пробеге говорят о том, что там просто новые машинки, которые еще не успели поездить\n",
    "\n",
    "Проверим это по году выпуска? Будем считать, что право на нулевой пробег имеют только машины от 2022 года выпуска и младше"
   ]
  },
  {
   "cell_type": "code",
   "execution_count": null,
   "id": "60fe6e78",
   "metadata": {
    "id": "60fe6e78"
   },
   "outputs": [],
   "source": [
    "df1[(df1['Пробег'].isna()) & (df1['Год']<2022)]"
   ]
  },
  {
   "cell_type": "markdown",
   "id": "b746ad6f",
   "metadata": {
    "id": "b746ad6f"
   },
   "source": [
    "Пробежимся по средним значениям для каждого года выпуска, присвоим нулевым пробегам эти значения соответственно"
   ]
  },
  {
   "cell_type": "code",
   "execution_count": null,
   "id": "e90f5cb0",
   "metadata": {
    "id": "e90f5cb0"
   },
   "outputs": [],
   "source": [
    "df.at [172, 'Пробег'] = df.loc[df['Год'] == 2019, 'Пробег'].mean()"
   ]
  },
  {
   "cell_type": "code",
   "execution_count": null,
   "id": "8b28a69a",
   "metadata": {
    "id": "8b28a69a"
   },
   "outputs": [],
   "source": [
    "df.at [342, 'Пробег'] = df.loc[df['Год'] == 2021, 'Пробег'].mean()\n",
    "df.at [384, 'Пробег'] = df.loc[df['Год'] == 2021, 'Пробег'].mean()\n",
    "df.at [398, 'Пробег'] = df.loc[df['Год'] == 2021, 'Пробег'].mean()\n",
    "df.at [470, 'Пробег'] = df.loc[df['Год'] == 2021, 'Пробег'].mean()\n",
    "df.at [494, 'Пробег'] = df.loc[df['Год'] == 2021, 'Пробег'].mean()\n",
    "df.at [876, 'Пробег'] = df.loc[df['Год'] == 2021, 'Пробег'].mean()\n",
    "df.at [879, 'Пробег'] = df.loc[df['Год'] == 2021, 'Пробег'].mean()\n",
    "df.at [898, 'Пробег'] = df.loc[df['Год'] == 2021, 'Пробег'].mean()\n",
    "df.at [1044, 'Пробег'] = df.loc[df['Год'] == 2021, 'Пробег'].mean()\n",
    "df.at [1328, 'Пробег'] = df.loc[df['Год'] == 2021, 'Пробег'].mean()"
   ]
  },
  {
   "cell_type": "code",
   "execution_count": null,
   "id": "fc8c3882",
   "metadata": {
    "id": "fc8c3882"
   },
   "outputs": [],
   "source": [
    "df.at [175, 'Пробег'] = df.loc[df['Год'] == 2007, 'Пробег'].mean()\n",
    "df.at [848, 'Пробег'] = df.loc[df['Год'] == 2007, 'Пробег'].mean()"
   ]
  },
  {
   "cell_type": "code",
   "execution_count": null,
   "id": "3fa7c441",
   "metadata": {
    "id": "3fa7c441"
   },
   "outputs": [],
   "source": [
    "df.at [176, 'Пробег'] = df.loc[df['Год'] == 2015, 'Пробег'].mean()"
   ]
  },
  {
   "cell_type": "code",
   "execution_count": null,
   "id": "b4d98e94",
   "metadata": {
    "id": "b4d98e94"
   },
   "outputs": [],
   "source": [
    "df.at [844, 'Пробег'] = df.loc[df['Год'] == 2002, 'Пробег'].mean()"
   ]
  },
  {
   "cell_type": "code",
   "execution_count": null,
   "id": "4c35dd9e",
   "metadata": {
    "id": "4c35dd9e"
   },
   "outputs": [],
   "source": [
    "df.at [178, 'Пробег'] = df.loc[df['Год'] == 2008, 'Пробег'].mean()"
   ]
  },
  {
   "cell_type": "code",
   "execution_count": null,
   "id": "eebb34b3",
   "metadata": {
    "id": "eebb34b3",
    "scrolled": true
   },
   "outputs": [],
   "source": [
    "df[(df['Пробег'].isna()) & (df['Год']<2022)]"
   ]
  },
  {
   "cell_type": "markdown",
   "id": "e262c2f2",
   "metadata": {
    "id": "e262c2f2"
   },
   "source": [
    "Остались только подозрительные строки дудоссеров, их удалим вообще"
   ]
  },
  {
   "cell_type": "code",
   "execution_count": null,
   "id": "7b99ba5e",
   "metadata": {
    "id": "7b99ba5e"
   },
   "outputs": [],
   "source": [
    "df.drop(axis=0, index=343, inplace=True)\n",
    "df.drop(axis=0, index=400, inplace=True)\n",
    "df.drop(axis=0, index=401, inplace=True)\n",
    "df.drop(axis=0, index=846, inplace=True)"
   ]
  },
  {
   "cell_type": "markdown",
   "id": "7a3669ff",
   "metadata": {
    "id": "7a3669ff"
   },
   "source": [
    "Ну вот, теперь все старые машины остались без нулевого пробега, сделаем новым пробег=0 вместо NaN"
   ]
  },
  {
   "cell_type": "code",
   "execution_count": null,
   "id": "03972806",
   "metadata": {
    "id": "03972806"
   },
   "outputs": [],
   "source": [
    "df['Пробег'].fillna(value=0, inplace=True)"
   ]
  },
  {
   "cell_type": "markdown",
   "id": "3b4c18af",
   "metadata": {
    "id": "3b4c18af"
   },
   "source": [
    "## Следующим большим вопросом стала Оценка Drom. "
   ]
  },
  {
   "cell_type": "markdown",
   "id": "b3ffb675",
   "metadata": {
    "id": "b3ffb675"
   },
   "source": [
    "Там столько пропусков, что появляется желание ее удалить вообще... Однако, возможно, она нам еще пригодится...Заменим ее на среднее(8.602), тк по 10-балльной шкале, как выяснилось, минимум -- 7.5, а максимум -- 8.9, поэтому медиана(8.7) не так репрезентативна"
   ]
  },
  {
   "cell_type": "code",
   "execution_count": null,
   "id": "19943e74",
   "metadata": {
    "id": "19943e74"
   },
   "outputs": [],
   "source": [
    "df['Оценка Drom'].fillna(value=8.602, inplace=True)"
   ]
  },
  {
   "cell_type": "markdown",
   "id": "4de07596",
   "metadata": {
    "id": "4de07596"
   },
   "source": [
    "## Отлично! Теперь разберемся с мощностью"
   ]
  },
  {
   "cell_type": "code",
   "execution_count": null,
   "id": "14ff1c6f",
   "metadata": {
    "id": "14ff1c6f",
    "scrolled": true
   },
   "outputs": [],
   "source": [
    "df[(df['Мощность'].isna())]"
   ]
  },
  {
   "cell_type": "markdown",
   "id": "21859fea",
   "metadata": {
    "id": "21859fea"
   },
   "source": [
    "Здесь опять на лицо куча дудос-строк, избавимся от них\n"
   ]
  },
  {
   "cell_type": "code",
   "execution_count": null,
   "id": "5714d9c2",
   "metadata": {
    "id": "5714d9c2"
   },
   "outputs": [],
   "source": [
    "df.drop(axis=0, index=344, inplace=True)\n",
    "df.drop(axis=0, index=358, inplace=True)\n",
    "df.drop(axis=0, index=359, inplace=True)\n",
    "df.drop(axis=0, index=414, inplace=True)\n",
    "df.drop(axis=0, index=433, inplace=True)\n",
    "df.drop(axis=0, index=497, inplace=True)\n",
    "df.drop(axis=0, index=496, inplace=True)\n",
    "df.drop(axis=0, index=502, inplace=True)\n",
    "df.drop(axis=0, index=505, inplace=True)\n",
    "df.drop(axis=0, index=508, inplace=True)\n",
    "df.drop(axis=0, index=510, inplace=True)\n",
    "df.drop(axis=0, index=512, inplace=True)\n",
    "df.drop(axis=0, index=522, inplace=True)\n",
    "df.drop(axis=0, index=879, inplace=True)\n",
    "df.drop(axis=0, index=876, inplace=True)\n",
    "df.drop(axis=0, index=495, inplace=True)\n",
    "df.drop(axis=0, index=344, inplace=True)\n",
    "df.drop(axis=0, index=358, inplace=True)"
   ]
  },
  {
   "cell_type": "code",
   "execution_count": null,
   "id": "6509a50e",
   "metadata": {
    "id": "6509a50e",
    "scrolled": true
   },
   "outputs": [],
   "source": [
    "df[(df['Мощность'].isna())]"
   ]
  },
  {
   "cell_type": "markdown",
   "id": "b7883bef",
   "metadata": {
    "id": "b7883bef"
   },
   "source": [
    "Кажется логичным NaNовую мощность у Hyundai Solaris заменить на 123"
   ]
  },
  {
   "cell_type": "code",
   "execution_count": null,
   "id": "a13fe8c9",
   "metadata": {
    "id": "a13fe8c9"
   },
   "outputs": [],
   "source": [
    "df[(df['Мощность']!=0) & (df['Название']=='Hyundai Solaris')]"
   ]
  },
  {
   "cell_type": "code",
   "execution_count": null,
   "id": "405a0bb8",
   "metadata": {
    "id": "405a0bb8"
   },
   "outputs": [],
   "source": [
    "df.at [130, 'Мощность'] = 123.0\n",
    "df.at [368, 'Мощность'] = 123.0"
   ]
  },
  {
   "cell_type": "markdown",
   "id": "c5fc7c70",
   "metadata": {
    "id": "c5fc7c70"
   },
   "source": [
    "Проделываем то же для остальных марок"
   ]
  },
  {
   "cell_type": "code",
   "execution_count": null,
   "id": "7961360f",
   "metadata": {
    "id": "7961360f"
   },
   "outputs": [],
   "source": [
    "df.loc[df['Название'] == 'Kia Sorento', 'Мощность'].median()"
   ]
  },
  {
   "cell_type": "markdown",
   "id": "3740ea95",
   "metadata": {
    "id": "3740ea95"
   },
   "source": [
    "Заменим NaNовую мощность у Kia Sorento на медианную, тк она более выбросоустойчива, чем средняя, хотя они и очень близки"
   ]
  },
  {
   "cell_type": "code",
   "execution_count": null,
   "id": "a453668d",
   "metadata": {
    "id": "a453668d"
   },
   "outputs": [],
   "source": [
    "df.at [141, 'Мощность'] = df.loc[df['Название'] == 'Kia Sorento', 'Мощность'].median()\n",
    "df.at [1302, 'Мощность'] = df.loc[df['Название'] == 'Kia Sorento', 'Мощность'].median()\n",
    "df.at [1363, 'Мощность'] = df.loc[df['Название'] == 'Kia Sorento', 'Мощность'].median()"
   ]
  },
  {
   "cell_type": "code",
   "execution_count": null,
   "id": "a5584ecd",
   "metadata": {
    "id": "a5584ecd"
   },
   "outputs": [],
   "source": [
    "df.at [345, 'Мощность'] = df.loc[df['Название'] == 'Volkswagen Tiguan', 'Мощность'].median()\n",
    "df.at [362, 'Мощность'] = df.loc[df['Название'] == 'Volkswagen Tiguan', 'Мощность'].median()\n",
    "df.at [636, 'Мощность'] = df.loc[df['Название'] == 'Volkswagen Tiguan', 'Мощность'].median()"
   ]
  },
  {
   "cell_type": "code",
   "execution_count": null,
   "id": "58fd68bc",
   "metadata": {
    "id": "58fd68bc"
   },
   "outputs": [],
   "source": [
    "df.at [147, 'Мощность'] = df.loc[df['Название'] == 'Toyota Camry', 'Мощность'].median()"
   ]
  },
  {
   "cell_type": "code",
   "execution_count": null,
   "id": "f14e9e38",
   "metadata": {
    "id": "f14e9e38"
   },
   "outputs": [],
   "source": [
    "df.at [339, 'Мощность'] = df.loc[df['Название'] == 'Kia Sportage', 'Мощность'].median()\n",
    "df.at [349, 'Мощность'] = df.loc[df['Название'] == 'Kia Sportage', 'Мощность'].median()"
   ]
  },
  {
   "cell_type": "code",
   "execution_count": null,
   "id": "3fc61927",
   "metadata": {
    "id": "3fc61927"
   },
   "outputs": [],
   "source": [
    "df.at [346, 'Мощность'] = df.loc[df['Название'] == 'Kia Rio', 'Мощность'].median()\n",
    "df.at [350, 'Мощность'] = df.loc[df['Название'] == 'Kia Rio', 'Мощность'].median()"
   ]
  },
  {
   "cell_type": "code",
   "execution_count": null,
   "id": "e1d132eb",
   "metadata": {
    "id": "e1d132eb"
   },
   "outputs": [],
   "source": [
    "df.at [360, 'Мощность'] = df.loc[df['Название'] == 'Mitsubishi Pajero', 'Мощность'].median()\n",
    "df.at [1366, 'Мощность'] = df.loc[df['Название'] == 'Mitsubishi Pajero', 'Мощность'].median()"
   ]
  },
  {
   "cell_type": "code",
   "execution_count": null,
   "id": "70538897",
   "metadata": {
    "id": "70538897"
   },
   "outputs": [],
   "source": [
    "df.at [347, 'Мощность'] = df.loc[df['Название'] == 'Haval F7', 'Мощность'].median()"
   ]
  },
  {
   "cell_type": "code",
   "execution_count": null,
   "id": "44068f8a",
   "metadata": {
    "id": "44068f8a"
   },
   "outputs": [],
   "source": [
    "df.at [348, 'Мощность'] = df.loc[df['Название'] == 'SsangYong Kyron', 'Мощность'].median()"
   ]
  },
  {
   "cell_type": "code",
   "execution_count": null,
   "id": "4a61dbc4",
   "metadata": {
    "id": "4a61dbc4"
   },
   "outputs": [],
   "source": [
    "df.at [351, 'Мощность'] = df.loc[df['Название'] == 'Nissan Juke', 'Мощность'].median()"
   ]
  },
  {
   "cell_type": "markdown",
   "id": "57316940",
   "metadata": {
    "id": "57316940"
   },
   "source": [
    "А вот Volvo XC70 оказалась одной единственной машинкой этой марки, так что пришлось поискать в интернете, какая у нее могла бы быть мощность в теории"
   ]
  },
  {
   "cell_type": "code",
   "execution_count": null,
   "id": "cb8bbb63",
   "metadata": {
    "id": "cb8bbb63"
   },
   "outputs": [],
   "source": [
    "df.at [352, 'Мощность'] = 215"
   ]
  },
  {
   "cell_type": "code",
   "execution_count": null,
   "id": "ee020b88",
   "metadata": {
    "id": "ee020b88"
   },
   "outputs": [],
   "source": [
    "df.at [353, 'Мощность'] = df.loc[df['Название'] == 'Citroen Berlingo', 'Мощность'].median()"
   ]
  },
  {
   "cell_type": "markdown",
   "id": "70cd764d",
   "metadata": {
    "id": "70cd764d"
   },
   "source": [
    "Peugeot Partner тоже найдем в интернетах"
   ]
  },
  {
   "cell_type": "code",
   "execution_count": null,
   "id": "96206ba0",
   "metadata": {
    "id": "96206ba0"
   },
   "outputs": [],
   "source": [
    "df.at [355, 'Мощность'] = 75"
   ]
  },
  {
   "cell_type": "code",
   "execution_count": null,
   "id": "9c5cf30b",
   "metadata": {
    "id": "9c5cf30b"
   },
   "outputs": [],
   "source": [
    "df.at [356, 'Мощность'] = df.loc[df['Название'] == 'Kia Ceed', 'Мощность'].median()"
   ]
  },
  {
   "cell_type": "code",
   "execution_count": null,
   "id": "2b85506d",
   "metadata": {
    "id": "2b85506d"
   },
   "outputs": [],
   "source": [
    "df.at [367, 'Мощность'] = df.loc[df['Название'] == 'Skoda Octavia', 'Мощность'].median()\n",
    "df.at [789, 'Мощность'] = df.loc[df['Название'] == 'Skoda Octavia', 'Мощность'].median()"
   ]
  },
  {
   "cell_type": "code",
   "execution_count": null,
   "id": "ebdcd6dd",
   "metadata": {
    "id": "ebdcd6dd"
   },
   "outputs": [],
   "source": [
    "df.at [369, 'Мощность'] = df.loc[df['Название'] == 'Skoda Rapid', 'Мощность'].median()"
   ]
  },
  {
   "cell_type": "code",
   "execution_count": null,
   "id": "6b879e5f",
   "metadata": {
    "id": "6b879e5f"
   },
   "outputs": [],
   "source": [
    "df.at [409, 'Мощность'] = df.loc[df['Название'] == 'Changan UNI-K', 'Мощность'].median()"
   ]
  },
  {
   "cell_type": "markdown",
   "id": "b11c4952",
   "metadata": {
    "id": "b11c4952"
   },
   "source": [
    "Changan CS95 тоже найдем в интернетах"
   ]
  },
  {
   "cell_type": "code",
   "execution_count": null,
   "id": "ab497356",
   "metadata": {
    "id": "ab497356"
   },
   "outputs": [],
   "source": [
    "df.at [411, 'Мощность'] = 233"
   ]
  },
  {
   "cell_type": "markdown",
   "id": "6fc456f7",
   "metadata": {
    "id": "6fc456f7"
   },
   "source": [
    "Toyota Highlander\t2022\tбензин\tтоже"
   ]
  },
  {
   "cell_type": "code",
   "execution_count": null,
   "id": "19a2a043",
   "metadata": {
    "id": "19a2a043"
   },
   "outputs": [],
   "source": [
    "df.at [432, 'Мощность'] = 244"
   ]
  },
  {
   "cell_type": "markdown",
   "id": "d776b76c",
   "metadata": {
    "id": "d776b76c"
   },
   "source": [
    "Лада 2102 тоже :)"
   ]
  },
  {
   "cell_type": "code",
   "execution_count": null,
   "id": "39350535",
   "metadata": {
    "id": "39350535"
   },
   "outputs": [],
   "source": [
    "df.at [565, 'Мощность'] = 64"
   ]
  },
  {
   "cell_type": "code",
   "execution_count": null,
   "id": "4648ce96",
   "metadata": {
    "id": "4648ce96"
   },
   "outputs": [],
   "source": [
    "df.at [1145, 'Мощность'] = df.loc[df['Название'] == 'Ford Focus', 'Мощность'].median()\n",
    "df.at [1304, 'Мощность'] = df.loc[df['Название'] == 'Ford Focus', 'Мощность'].median()"
   ]
  },
  {
   "cell_type": "code",
   "execution_count": null,
   "id": "10e5fe7c",
   "metadata": {
    "id": "10e5fe7c"
   },
   "outputs": [],
   "source": [
    "df.at [1299, 'Мощность'] = df.loc[df['Название'] == 'Nissan Pathfinder', 'Мощность'].median()"
   ]
  },
  {
   "cell_type": "markdown",
   "id": "d94e9619",
   "metadata": {
    "id": "d94e9619"
   },
   "source": [
    "Audi Q8 тоже :)"
   ]
  },
  {
   "cell_type": "code",
   "execution_count": null,
   "id": "d329d0e0",
   "metadata": {
    "id": "d329d0e0"
   },
   "outputs": [],
   "source": [
    "df.at [637, 'Мощность'] = 340"
   ]
  },
  {
   "cell_type": "code",
   "execution_count": null,
   "id": "dd6b96a2",
   "metadata": {
    "id": "dd6b96a2"
   },
   "outputs": [],
   "source": [
    "df.at [786, 'Мощность'] = df.loc[df['Название'] == 'Volkswagen Golf', 'Мощность'].median()"
   ]
  },
  {
   "cell_type": "code",
   "execution_count": null,
   "id": "97882666",
   "metadata": {
    "id": "97882666"
   },
   "outputs": [],
   "source": [
    "df.at [1136, 'Мощность'] = df.loc[df['Название'] == 'Renault Duster', 'Мощность'].median()"
   ]
  },
  {
   "cell_type": "markdown",
   "id": "cbcd4ecd",
   "metadata": {
    "id": "cbcd4ecd"
   },
   "source": [
    "Cadillac SRX тоже :)"
   ]
  },
  {
   "cell_type": "code",
   "execution_count": null,
   "id": "bae41da4",
   "metadata": {
    "id": "bae41da4"
   },
   "outputs": [],
   "source": [
    "df.at [1297, 'Мощность'] = 270"
   ]
  },
  {
   "cell_type": "code",
   "execution_count": null,
   "id": "e7cd3792",
   "metadata": {
    "id": "e7cd3792"
   },
   "outputs": [],
   "source": [
    "df.at [1301, 'Мощность'] = df.loc[df['Название'] == 'Audi A4', 'Мощность'].median()"
   ]
  },
  {
   "cell_type": "code",
   "execution_count": null,
   "id": "3f451281",
   "metadata": {
    "id": "3f451281",
    "scrolled": true
   },
   "outputs": [],
   "source": [
    "# Все вышеперечисленные марки автомобилей мы проверяли через такую штучку, чтобы убедиться, что медиана существует и она репрезентативна\n",
    "df[(df['Мощность']!=0) & (df['Название']=='...')]"
   ]
  },
  {
   "cell_type": "markdown",
   "id": "52ac1155",
   "metadata": {
    "id": "52ac1155"
   },
   "source": [
    "# Что ж, теперь разберемся с объемами двигателей"
   ]
  },
  {
   "cell_type": "code",
   "execution_count": null,
   "id": "d51824d7",
   "metadata": {
    "id": "d51824d7",
    "scrolled": true
   },
   "outputs": [],
   "source": [
    "df[(df['Объем двигателя'].isnull())]"
   ]
  },
  {
   "cell_type": "markdown",
   "id": "cd1a3b67",
   "metadata": {
    "id": "cd1a3b67"
   },
   "source": [
    "Здесь очевидно собраны те машины, у которых двигатель заправляется не топливом, а электричеством. Поэтому их двигатель вообще не имеет объема. Единственным исключением стала Toyota Highlander на бензине, ее объем мы проверим в интернете. У электрокаров заменим объем на нули"
   ]
  },
  {
   "cell_type": "code",
   "execution_count": null,
   "id": "a4d85e62",
   "metadata": {
    "id": "a4d85e62"
   },
   "outputs": [],
   "source": [
    "df.at [432, 'Объем двигателя'] = 3.5"
   ]
  },
  {
   "cell_type": "code",
   "execution_count": null,
   "id": "59e2338f",
   "metadata": {
    "id": "59e2338f"
   },
   "outputs": [],
   "source": [
    "df['Объем двигателя'].fillna(value=0, inplace=True)"
   ]
  },
  {
   "cell_type": "markdown",
   "id": "4261dc20",
   "metadata": {
    "id": "4261dc20"
   },
   "source": [
    "## Займемся топливом"
   ]
  },
  {
   "cell_type": "code",
   "execution_count": null,
   "id": "ae83c267",
   "metadata": {
    "id": "ae83c267"
   },
   "outputs": [],
   "source": [
    "df[(df['Топливо'].isnull())]"
   ]
  },
  {
   "cell_type": "markdown",
   "id": "3fcfcfe1",
   "metadata": {
    "id": "3fcfcfe1"
   },
   "source": [
    "По статистике, более 80% автомобилей ездят на бензине. Поэтому вряд ли мы ошибемся, если заменим NaNы на \"бензин\""
   ]
  },
  {
   "cell_type": "code",
   "execution_count": null,
   "id": "72938020",
   "metadata": {
    "id": "72938020"
   },
   "outputs": [],
   "source": [
    "df['Топливо'].fillna(value='бензин', inplace=True)"
   ]
  },
  {
   "cell_type": "markdown",
   "id": "ae3a0ee1",
   "metadata": {
    "id": "ae3a0ee1"
   },
   "source": [
    "## Посмотрим на NaNы в коробке передач"
   ]
  },
  {
   "cell_type": "code",
   "execution_count": null,
   "id": "bc515dab",
   "metadata": {
    "id": "bc515dab"
   },
   "outputs": [],
   "source": [
    "df[(df['Коробка передач'].isnull())]"
   ]
  },
  {
   "cell_type": "markdown",
   "id": "d4374058",
   "metadata": {
    "id": "d4374058"
   },
   "source": [
    "Было принято решение всем иномаркам старше 2010 года приписать автоматическую коробку передач, тк это очень даже соответсвует реалиям на рынке"
   ]
  },
  {
   "cell_type": "code",
   "execution_count": null,
   "id": "b125290c",
   "metadata": {
    "id": "b125290c"
   },
   "outputs": [],
   "source": [
    "df['Коробка передач'].fillna(value='автомат', inplace=True)"
   ]
  },
  {
   "cell_type": "markdown",
   "id": "0dd46003",
   "metadata": {
    "id": "0dd46003"
   },
   "source": [
    "А еще АКПП это и есть автомат, так что исправим это"
   ]
  },
  {
   "cell_type": "code",
   "execution_count": null,
   "id": "021c0b16",
   "metadata": {
    "id": "021c0b16"
   },
   "outputs": [],
   "source": [
    "df.loc[df['Коробка передач'] == 'АКПП', 'Коробка передач'] = 'автомат'"
   ]
  },
  {
   "cell_type": "markdown",
   "id": "e918a878",
   "metadata": {
    "id": "e918a878"
   },
   "source": [
    "## А как там рули?"
   ]
  },
  {
   "cell_type": "code",
   "execution_count": null,
   "id": "efe9094e",
   "metadata": {
    "id": "efe9094e"
   },
   "outputs": [],
   "source": [
    "df[(df['Руль'].isnull())]"
   ]
  },
  {
   "cell_type": "markdown",
   "id": "fc8e9533",
   "metadata": {
    "id": "fc8e9533"
   },
   "source": [
    "Очевидно, все праворульные машины скорее всего производят Японии и Великобритании. А в списке выше таких нет, поэтому можем по умолчанию исправить рули на левые"
   ]
  },
  {
   "cell_type": "code",
   "execution_count": null,
   "id": "f6f303d2",
   "metadata": {
    "id": "f6f303d2"
   },
   "outputs": [],
   "source": [
    "df['Руль'].fillna(value='левый', inplace=True)"
   ]
  },
  {
   "cell_type": "markdown",
   "id": "a2baf0d0",
   "metadata": {
    "id": "a2baf0d0"
   },
   "source": [
    "## Привод\n"
   ]
  },
  {
   "cell_type": "code",
   "execution_count": null,
   "id": "a2434eff",
   "metadata": {
    "id": "a2434eff"
   },
   "outputs": [],
   "source": [
    "df[(df['Привод'].isnull())]"
   ]
  },
  {
   "cell_type": "code",
   "execution_count": null,
   "id": "217807a8",
   "metadata": {
    "id": "217807a8"
   },
   "outputs": [],
   "source": [
    "df['Привод'].fillna(value='передний', inplace=True)"
   ]
  },
  {
   "cell_type": "markdown",
   "id": "6bf0ce95",
   "metadata": {
    "id": "6bf0ce95"
   },
   "source": [
    "## Цвет"
   ]
  },
  {
   "cell_type": "code",
   "execution_count": null,
   "id": "1b1dd31d",
   "metadata": {
    "id": "1b1dd31d"
   },
   "outputs": [],
   "source": [
    "df[(df['Цвет'].isnull())]"
   ]
  },
  {
   "cell_type": "code",
   "execution_count": null,
   "id": "e53f0153",
   "metadata": {
    "id": "e53f0153"
   },
   "outputs": [],
   "source": [
    "df['Цвет'].fillna(value='белый', inplace=True)"
   ]
  },
  {
   "cell_type": "markdown",
   "id": "1e56edae",
   "metadata": {
    "id": "1e56edae"
   },
   "source": [
    "### Все пропуски обработаны! Ура!"
   ]
  },
  {
   "cell_type": "code",
   "execution_count": null,
   "id": "671d2196",
   "metadata": {
    "id": "671d2196"
   },
   "outputs": [],
   "source": [
    "df.isnull().sum()"
   ]
  },
  {
   "cell_type": "markdown",
   "id": "82909901",
   "metadata": {
    "id": "82909901"
   },
   "source": [
    "Для пущей красоты сделаем пробег целым числом"
   ]
  },
  {
   "cell_type": "code",
   "execution_count": null,
   "id": "951d156d",
   "metadata": {
    "id": "951d156d"
   },
   "outputs": [],
   "source": [
    "df['Пробег'] = df['Пробег'].astype(int)"
   ]
  },
  {
   "cell_type": "code",
   "execution_count": null,
   "id": "5eed08f6",
   "metadata": {
    "id": "5eed08f6"
   },
   "outputs": [],
   "source": [
    "df.head(20)"
   ]
  },
  {
   "cell_type": "markdown",
   "id": "834f50f6",
   "metadata": {
    "id": "834f50f6"
   },
   "source": [
    "## III) Визуализация"
   ]
  },
  {
   "cell_type": "markdown",
   "id": "KE-5KA-je-I5",
   "metadata": {
    "id": "KE-5KA-je-I5"
   },
   "source": [
    "# <font color=\"red\">**ЯЧЕЙКА НИЖЕ ВРЕМЕННАЯ, ПРОСТО ЧТОБЫ НЕ ПАРСИТЬ И НЕ ПЕРЕДЕЛЫВАТЬ ВСЕ, ЧТО ЕСТЬ СВЕРХУ**</font>"
   ]
  },
  {
   "cell_type": "code",
   "execution_count": 3,
   "id": "82R0CUEjewMX",
   "metadata": {
    "id": "82R0CUEjewMX"
   },
   "outputs": [],
   "source": [
    "df = pd.read_csv('my_data.csv')\n",
    "df.drop(['Unnamed: 0'], axis=1, inplace=True)"
   ]
  },
  {
   "cell_type": "markdown",
   "id": "DUA5PzjsaaPy",
   "metadata": {
    "id": "DUA5PzjsaaPy"
   },
   "source": [
    "Итак, данные готовы, пришло время посмотреть на их взаимосвязь. Матрица с корреляциями - неплохой способ получить много информации об этом"
   ]
  },
  {
   "cell_type": "code",
   "execution_count": 4,
   "id": "e4be732b",
   "metadata": {
    "colab": {
     "base_uri": "https://localhost:8080/",
     "height": 623
    },
    "id": "e4be732b",
    "outputId": "f83d9534-50d6-4b22-eb91-4d2876a86b6e"
   },
   "outputs": [
    {
     "data": {
      "text/plain": [
       "<AxesSubplot:>"
      ]
     },
     "execution_count": 4,
     "metadata": {},
     "output_type": "execute_result"
    },
    {
     "data": {
      "image/png": "[encoded data removed]",
      "text/plain": [
       "<Figure size 432x288 with 2 Axes>"
      ]
     },
     "metadata": {
      "needs_background": "light"
     },
     "output_type": "display_data"
    }
   ],
   "source": [
    "sns.heatmap(df.corr(), xticklabels=df.corr().columns, yticklabels=df.corr().columns, cmap='RdYlGn', center=0, annot=True)"
   ]
  },
  {
   "cell_type": "markdown",
   "id": "SsTveKVjcaAq",
   "metadata": {
    "id": "SsTveKVjcaAq"
   },
   "source": [
    "Отлично! Наиболее яркими зависимостями получились: Объем двигателя и мощность, год выпуска и пробег, мощность двигателя и цена. Первые две вполни легко объяснимы: чем больше у двигателя объем, тем большую мощность он способен выдать и чем раньше был выпущен автомобиль - тем дольше и дальше он катается по дорогам. Посмотрим на них на наличие всяких интересностей. "
   ]
  },
  {
   "cell_type": "code",
   "execution_count": 5,
   "id": "UsObEax6dKaJ",
   "metadata": {
    "colab": {
     "base_uri": "https://localhost:8080/",
     "height": 514
    },
    "id": "UsObEax6dKaJ",
    "outputId": "90249c37-0999-4f57-e277-86bf72afc4ff"
   },
   "outputs": [
    {
     "data": {
      "image/png": "[encoded data removed]",
      "text/plain": [
       "<Figure size 432x288 with 1 Axes>"
      ]
     },
     "metadata": {},
     "output_type": "display_data"
    }
   ],
   "source": [
    "sns.set_style('darkgrid')\n",
    "plt.title('Зависимость между годом выпуска и пробегом автомобиля',size=16)\n",
    "plt.xlabel('Пробег',size=12)\n",
    "plt.ylabel('Год',size=12)\n",
    "sns.scatterplot(x='Пробег', y='Год', data=df, edgecolor='black', palette='cubehelix')\n",
    "plt.show() "
   ]
  },
  {
   "cell_type": "code",
   "execution_count": 6,
   "id": "1c7Vu3JNdR72",
   "metadata": {
    "colab": {
     "base_uri": "https://localhost:8080/",
     "height": 514
    },
    "id": "1c7Vu3JNdR72",
    "outputId": "db49685e-7cc7-41c9-caea-43d90e9b259b"
   },
   "outputs": [
    {
     "data": {
      "image/png": "[encoded data removed]",
      "text/plain": [
       "<Figure size 432x288 with 1 Axes>"
      ]
     },
     "metadata": {},
     "output_type": "display_data"
    }
   ],
   "source": [
    "plt.title('Зависимость между мощностью и объемом двигателя',size=16)\n",
    "plt.xlabel('Мощность',size=12)\n",
    "plt.ylabel('Объем двигателя',size=12)\n",
    "sns.scatterplot(x='Мощность', y='Объем двигателя', data=df, edgecolor='black', palette='cubehelix')\n",
    "plt.show()"
   ]
  },
  {
   "cell_type": "markdown",
   "id": "p62VNsI_dgFc",
   "metadata": {
    "id": "p62VNsI_dgFc"
   },
   "source": [
    "Можно заметить, что подавляющее большинство составляют новые автомобили с относительно небольшим пробегом, а так же автомобили с относительно невысокой мощностью. Вероятно, это особновано тем, что подавляющее большинство используемых автомобилей - легковые, которые владелец собирается менять на аналогичные, но более новые марки. "
   ]
  },
  {
   "cell_type": "code",
   "execution_count": 7,
   "id": "lCLi6BCBf7j8",
   "metadata": {
    "colab": {
     "base_uri": "https://localhost:8080/",
     "height": 514
    },
    "id": "lCLi6BCBf7j8",
    "outputId": "4f098152-2309-4d9b-adc5-e9d0a97afd69"
   },
   "outputs": [
    {
     "data": {
      "image/png": "[encoded data removed]",
      "text/plain": [
       "<Figure size 432x288 with 1 Axes>"
      ]
     },
     "metadata": {},
     "output_type": "display_data"
    }
   ],
   "source": [
    "plt.title('Зависимость между мощностью двигателя и ценой автомбиля',size=16)\n",
    "plt.xlabel('Цена',size=12)\n",
    "plt.ylabel('Мощность',size=12)\n",
    "sns.scatterplot(x='Цена', y='Мощность', data=df, edgecolor='black', palette='cubehelix')\n",
    "plt.show()"
   ]
  },
  {
   "cell_type": "markdown",
   "id": "xwM__3YLgKop",
   "metadata": {
    "id": "xwM__3YLgKop"
   },
   "source": [
    "Схожее распределение, показывающее что большинство автомобилей - относительно слабые и дешевые. \n",
    "\n",
    "Помимо подавляющего большинства на графиках выше также хорошо заметны единичные случаи сильных, дорогих или старых автомобилей. "
   ]
  },
  {
   "cell_type": "markdown",
   "id": "AdQexxVwi_B2",
   "metadata": {
    "id": "AdQexxVwi_B2"
   },
   "source": [
    "Хорошо, с численными переменными все стало немного понятнее. Но что со всем остальным? Давайте посмотрим, что встречается чаще всего"
   ]
  },
  {
   "cell_type": "code",
   "execution_count": 8,
   "id": "vPQNlv18hcnx",
   "metadata": {
    "colab": {
     "base_uri": "https://localhost:8080/",
     "height": 175
    },
    "id": "vPQNlv18hcnx",
    "outputId": "51b30b2c-c53c-44ce-8366-8930a97d7bf1"
   },
   "outputs": [
    {
     "data": {
      "text/html": [
       "<div>\n",
       "<style scoped>\n",
       "    .dataframe tbody tr th:only-of-type {\n",
       "        vertical-align: middle;\n",
       "    }\n",
       "\n",
       "    .dataframe tbody tr th {\n",
       "        vertical-align: top;\n",
       "    }\n",
       "\n",
       "    .dataframe thead th {\n",
       "        text-align: right;\n",
       "    }\n",
       "</style>\n",
       "<table border=\"1\" class=\"dataframe\">\n",
       "  <thead>\n",
       "    <tr style=\"text-align: right;\">\n",
       "      <th></th>\n",
       "      <th>Название</th>\n",
       "      <th>Топливо</th>\n",
       "      <th>Коробка передач</th>\n",
       "      <th>Привод</th>\n",
       "      <th>Цвет</th>\n",
       "      <th>Руль</th>\n",
       "    </tr>\n",
       "  </thead>\n",
       "  <tbody>\n",
       "    <tr>\n",
       "      <th>count</th>\n",
       "      <td>1370</td>\n",
       "      <td>1370</td>\n",
       "      <td>1370</td>\n",
       "      <td>1370</td>\n",
       "      <td>1370</td>\n",
       "      <td>1370</td>\n",
       "    </tr>\n",
       "    <tr>\n",
       "      <th>unique</th>\n",
       "      <td>404</td>\n",
       "      <td>3</td>\n",
       "      <td>4</td>\n",
       "      <td>3</td>\n",
       "      <td>15</td>\n",
       "      <td>2</td>\n",
       "    </tr>\n",
       "    <tr>\n",
       "      <th>top</th>\n",
       "      <td>Kia Rio</td>\n",
       "      <td>бензин</td>\n",
       "      <td>автомат</td>\n",
       "      <td>передний</td>\n",
       "      <td>белый</td>\n",
       "      <td>левый</td>\n",
       "    </tr>\n",
       "    <tr>\n",
       "      <th>freq</th>\n",
       "      <td>30</td>\n",
       "      <td>1087</td>\n",
       "      <td>833</td>\n",
       "      <td>653</td>\n",
       "      <td>463</td>\n",
       "      <td>1321</td>\n",
       "    </tr>\n",
       "  </tbody>\n",
       "</table>\n",
       "</div>"
      ],
      "text/plain": [
       "       Название Топливо Коробка передач    Привод   Цвет   Руль\n",
       "count      1370    1370            1370      1370   1370   1370\n",
       "unique      404       3               4         3     15      2\n",
       "top     Kia Rio  бензин         автомат  передний  белый  левый\n",
       "freq         30    1087             833       653    463   1321"
      ]
     },
     "execution_count": 8,
     "metadata": {},
     "output_type": "execute_result"
    }
   ],
   "source": [
    "df.describe(include='object')"
   ]
  },
  {
   "cell_type": "markdown",
   "id": "7UskbO8-jN08",
   "metadata": {
    "id": "7UskbO8-jN08"
   },
   "source": [
    "Если с большей частью столбцов все было понятно еще на этапе обработки данных, то вот узнать, сколько различных марок машин сейчас продается и какая из них самая популярная достаточно интересно."
   ]
  },
  {
   "cell_type": "markdown",
   "id": "guyvGbAajmX8",
   "metadata": {
    "id": "guyvGbAajmX8"
   },
   "source": [
    "Но что если рассматривать по производителям и конкретным моделям?"
   ]
  },
  {
   "cell_type": "code",
   "execution_count": 53,
   "id": "391407a1",
   "metadata": {},
   "outputs": [
    {
     "data": {
      "text/html": [
       "<div>\n",
       "<style scoped>\n",
       "    .dataframe tbody tr th:only-of-type {\n",
       "        vertical-align: middle;\n",
       "    }\n",
       "\n",
       "    .dataframe tbody tr th {\n",
       "        vertical-align: top;\n",
       "    }\n",
       "\n",
       "    .dataframe thead th {\n",
       "        text-align: right;\n",
       "    }\n",
       "</style>\n",
       "<table border=\"1\" class=\"dataframe\">\n",
       "  <thead>\n",
       "    <tr style=\"text-align: right;\">\n",
       "      <th></th>\n",
       "      <th>Производитель</th>\n",
       "      <th>Модель</th>\n",
       "    </tr>\n",
       "  </thead>\n",
       "  <tbody>\n",
       "    <tr>\n",
       "      <th>0</th>\n",
       "      <td>Kia</td>\n",
       "      <td>Mohave</td>\n",
       "    </tr>\n",
       "    <tr>\n",
       "      <th>1</th>\n",
       "      <td>Hyundai</td>\n",
       "      <td>Santa Fe</td>\n",
       "    </tr>\n",
       "    <tr>\n",
       "      <th>2</th>\n",
       "      <td>Toyota</td>\n",
       "      <td>RAV4</td>\n",
       "    </tr>\n",
       "    <tr>\n",
       "      <th>3</th>\n",
       "      <td>Jeep</td>\n",
       "      <td>Gladiator</td>\n",
       "    </tr>\n",
       "    <tr>\n",
       "      <th>4</th>\n",
       "      <td>Jeep</td>\n",
       "      <td>Wrangler</td>\n",
       "    </tr>\n",
       "    <tr>\n",
       "      <th>...</th>\n",
       "      <td>...</td>\n",
       "      <td>...</td>\n",
       "    </tr>\n",
       "    <tr>\n",
       "      <th>1365</th>\n",
       "      <td>Volvo</td>\n",
       "      <td>XC60</td>\n",
       "    </tr>\n",
       "    <tr>\n",
       "      <th>1366</th>\n",
       "      <td>Audi</td>\n",
       "      <td>A8</td>\n",
       "    </tr>\n",
       "    <tr>\n",
       "      <th>1367</th>\n",
       "      <td>BMW</td>\n",
       "      <td>3-Series</td>\n",
       "    </tr>\n",
       "    <tr>\n",
       "      <th>1368</th>\n",
       "      <td>Geely</td>\n",
       "      <td>Tugella FY11</td>\n",
       "    </tr>\n",
       "    <tr>\n",
       "      <th>1369</th>\n",
       "      <td>Volkswagen</td>\n",
       "      <td>Polo</td>\n",
       "    </tr>\n",
       "  </tbody>\n",
       "</table>\n",
       "<p>1370 rows × 2 columns</p>\n",
       "</div>"
      ],
      "text/plain": [
       "     Производитель        Модель\n",
       "0              Kia        Mohave\n",
       "1          Hyundai      Santa Fe\n",
       "2           Toyota          RAV4\n",
       "3             Jeep     Gladiator\n",
       "4             Jeep      Wrangler\n",
       "...            ...           ...\n",
       "1365         Volvo          XC60\n",
       "1366          Audi            A8\n",
       "1367           BMW      3-Series\n",
       "1368         Geely  Tugella FY11\n",
       "1369    Volkswagen          Polo\n",
       "\n",
       "[1370 rows x 2 columns]"
      ]
     },
     "execution_count": 53,
     "metadata": {},
     "output_type": "execute_result"
    }
   ],
   "source": [
    "data2 = pd.DataFrame()\n",
    "data2[['Производитель', 'Модель']] = df['Название'].str.split(' ', 1, expand=True)\n",
    "data2"
   ]
  },
  {
   "cell_type": "markdown",
   "id": "bf113ffe",
   "metadata": {},
   "source": [
    "Как видно, даже отделив Kia от Rio, они все равно остаются самыми популярными среди производителей и моделей соответственно "
   ]
  },
  {
   "cell_type": "code",
   "execution_count": 60,
   "id": "9f603ae0",
   "metadata": {},
   "outputs": [
    {
     "data": {
      "text/html": [
       "<div>\n",
       "<style scoped>\n",
       "    .dataframe tbody tr th:only-of-type {\n",
       "        vertical-align: middle;\n",
       "    }\n",
       "\n",
       "    .dataframe tbody tr th {\n",
       "        vertical-align: top;\n",
       "    }\n",
       "\n",
       "    .dataframe thead th {\n",
       "        text-align: right;\n",
       "    }\n",
       "</style>\n",
       "<table border=\"1\" class=\"dataframe\">\n",
       "  <thead>\n",
       "    <tr style=\"text-align: right;\">\n",
       "      <th></th>\n",
       "      <th>Производитель</th>\n",
       "      <th>Модель</th>\n",
       "    </tr>\n",
       "  </thead>\n",
       "  <tbody>\n",
       "    <tr>\n",
       "      <th>count</th>\n",
       "      <td>1370</td>\n",
       "      <td>1370</td>\n",
       "    </tr>\n",
       "    <tr>\n",
       "      <th>unique</th>\n",
       "      <td>66</td>\n",
       "      <td>404</td>\n",
       "    </tr>\n",
       "    <tr>\n",
       "      <th>top</th>\n",
       "      <td>Kia</td>\n",
       "      <td>Rio</td>\n",
       "    </tr>\n",
       "    <tr>\n",
       "      <th>freq</th>\n",
       "      <td>148</td>\n",
       "      <td>30</td>\n",
       "    </tr>\n",
       "  </tbody>\n",
       "</table>\n",
       "</div>"
      ],
      "text/plain": [
       "       Производитель Модель\n",
       "count           1370   1370\n",
       "unique            66    404\n",
       "top              Kia    Rio\n",
       "freq             148     30"
      ]
     },
     "execution_count": 60,
     "metadata": {},
     "output_type": "execute_result"
    }
   ],
   "source": [
    "data2.describe()"
   ]
  },
  {
   "cell_type": "code",
   "execution_count": null,
   "id": "49e15c21",
   "metadata": {},
   "outputs": [],
   "source": []
  }
 ],
 "metadata": {
  "colab": {
   "provenance": []
  },
  "kernelspec": {
   "display_name": "Python 3 (ipykernel)",
   "language": "python",
   "name": "python3"
  },
  "language_info": {
   "codemirror_mode": {
    "name": "ipython",
    "version": 3
   },
   "file_extension": ".py",
   "mimetype": "text/x-python",
   "name": "python",
   "nbconvert_exporter": "python",
   "pygments_lexer": "ipython3",
   "version": "3.9.12"
  }
 },
 "nbformat": 4,
 "nbformat_minor": 5
}
