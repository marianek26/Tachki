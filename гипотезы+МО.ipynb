{
 "cells": [
  {
   "cell_type": "code",
   "execution_count": 8,
   "id": "08f8ac9c",
   "metadata": {},
   "outputs": [],
   "source": [
    "import requests\n",
    "from bs4 import BeautifulSoup as bs\n",
    "import pandas as pd\n",
    "import numpy as np\n",
    "import matplotlib.pyplot as plt\n",
    "import seaborn as sns\n",
    "import missingno as msno\n",
    "import scipy.stats as sts\n",
    "\n",
    "import warnings\n",
    "warnings.filterwarnings(\"ignore\")"
   ]
  },
  {
   "cell_type": "markdown",
   "id": "ad8cf592",
   "metadata": {},
   "source": [
    "# IV) Создаем новый признак"
   ]
  },
  {
   "cell_type": "markdown",
   "id": "d6c8019c",
   "metadata": {},
   "source": [
    "Для того чтобы определить страну производитель было решено сначала разделить название на производителя и модель в исходном дата сете, затем глянуть на наших производителей и создать словарь с нашими производителями и странами"
   ]
  },
  {
   "cell_type": "code",
   "execution_count": 9,
   "id": "f54efc39",
   "metadata": {},
   "outputs": [],
   "source": [
    "df = pd.read_csv('data_processed.csv')\n",
    "df.drop(['Unnamed: 0'], axis=1, inplace=True)"
   ]
  },
  {
   "cell_type": "code",
   "execution_count": 10,
   "id": "35a1e16d",
   "metadata": {},
   "outputs": [],
   "source": [
    "df.insert(1, 'Марка', df['Название'].str.split(' ', 1, expand=True)[1])\n",
    "df['Название'] = df['Название'].str.split(' ', 1, expand=True)[0]\n",
    "df.rename(columns = {'Название': 'Производитель'}, inplace = True)"
   ]
  },
  {
   "cell_type": "markdown",
   "id": "eaacba31",
   "metadata": {},
   "source": [
    "Путем поиска в интернетах создаем словарик..."
   ]
  },
  {
   "cell_type": "code",
   "execution_count": 11,
   "id": "7f15b8c0",
   "metadata": {},
   "outputs": [],
   "source": [
    "slovar = {'Kia': 'Южная Корея', 'Hyundai': 'Южная Корея', 'Toyota': 'Япония', 'Jeep': 'США',\n",
    "          'Mercedes-Benz': 'Германия', 'Лада': 'Россия', 'BMW': 'Германия','ГАЗ': 'Россия',\n",
    "          'Changan': 'Китай', 'Infiniti': 'Япония', 'Audi': 'Германия', 'Volkswagen': 'Германия',\n",
    "          'Great Wall': 'Китай', 'Honda': 'Япония', 'Nissan': 'Япония', 'SsangYong': 'Южная Корея', \n",
    "          'Skoda': 'Чехия', 'Volvo': 'Швеция', 'Land Rover': 'Британия', 'Chevrolet': 'США',\n",
    "          'Mazda': 'Япония', 'Opel': 'Германия', 'Peugeot': 'Франция', 'Rivian': 'США',\n",
    "          'Renault': 'Франция', 'Mitsubishi': 'Япония', 'Tesla': 'США', 'Lexus': 'Япония',\n",
    "          'Ford': 'США', 'Bentley': 'Британия', 'Subaru': 'Япония', 'Porsche': 'Германия',\n",
    "          'Dodge': 'США', 'Fiat': 'Италия', 'Suzuki': 'Япония', 'Haval': 'Китай', 'УАЗ': 'Россия',\n",
    "          'Geely': 'Китай', 'Chery': 'Китай', 'EXEED': 'Китай', 'Genesis': 'Южная Корея',\n",
    "          'Dongfeng': 'Китай', 'Citroen': 'Германия', 'BYD': 'Китай', 'Jaguar': 'Британия',\n",
    "          'Tank': 'Китай', 'ЗАЗ': 'Россия', 'Daewoo': 'Южная Корея', 'Kaiyi': 'Китай',\n",
    "          'MINI': 'Британия', 'Datsun': 'Япония', 'Москвич': 'Россия', 'SEAT': 'Испания',\n",
    "          'Cadillac': 'США', 'Daihatsu': 'Япония', 'Voyah': 'Китай', 'GMC': 'США', 'Chrysler': 'США',\n",
    "          'Lifan': 'Китай', 'Isuzu': 'Япония', 'Ferrari': 'Италия', 'Smart': 'Германия',\n",
    "          'Evolute': 'Россия', 'RAM': 'США', 'Maybach': 'Германия'}"
   ]
  },
  {
   "cell_type": "markdown",
   "id": "1b9a961e",
   "metadata": {},
   "source": [
    "Во время сбора словарика были найдены производители с названием из двух и более слов: Land Rover, Great Wall. Заменим их модели и название производителей.\n",
    "\n",
    "Более того была найдена машина Jetta совместного производства Китая и Volkswagen. Так как это пилотный проект, то было решено вообще выкинуть этот мусор"
   ]
  },
  {
   "cell_type": "code",
   "execution_count": 12,
   "id": "2cdf0fe8",
   "metadata": {},
   "outputs": [],
   "source": [
    "df.set_index('Производитель', inplace = True)\n",
    "df.drop('Jetta', inplace = True)\n",
    "df.rename(index = {'Great': 'Great Wall', 'Land': 'Land Rover'}, inplace = True)\n",
    "df.reset_index(inplace = True)\n",
    "\n",
    "for i in df[df['Производитель'] == 'Land Rover']['Марка'].values:\n",
    "    df.replace(i, i.replace('Rover ', '', 1), inplace = True)\n",
    "    \n",
    "for i in df[df['Производитель'] == 'Great Wall']['Марка'].values:\n",
    "    df.replace(i, i.replace('Wall ', '', 1), inplace = True)\n",
    "\n",
    "countries = []\n",
    "for i in list(df['Производитель'].values):\n",
    "    countries.append(slovar[i])\n",
    "df.insert(2, 'Страна', countries)\n"
   ]
  },
  {
   "cell_type": "code",
   "execution_count": 13,
   "id": "80ada15a",
   "metadata": {},
   "outputs": [],
   "source": [
    "df.to_csv('new_data_processed.csv')"
   ]
  },
  {
   "cell_type": "markdown",
   "id": "2f912325",
   "metadata": {},
   "source": [
    "Приступим к проверке гипотезы \"Среднее значение цен на западные автомобили равно среднему значению цен на восточные\". То есть:\n",
    "\n",
    "$$\n",
    "\\begin{aligned}\n",
    "&H_0:  \\mu(восток)\\ = \\mu(запад)\\\\\n",
    "&H_1:  \\mu(восток)\\ \\not=\\ \\mu(запад)\\\\\n",
    "\\end{aligned}\n",
    "$$\n",
    "\n",
    "Рассмотрим, что мы относим к западу и востоку"
   ]
  },
  {
   "cell_type": "code",
   "execution_count": 14,
   "id": "1ad5ab87",
   "metadata": {},
   "outputs": [
    {
     "data": {
      "text/plain": [
       "array(['Южная Корея', 'Япония', 'США', 'Германия', 'Россия', 'Китай',\n",
       "       'Чехия', 'Швеция', 'Британия', 'Франция', 'Италия', 'Испания'],\n",
       "      dtype=object)"
      ]
     },
     "execution_count": 14,
     "metadata": {},
     "output_type": "execute_result"
    }
   ],
   "source": [
    "df['Страна'].unique()"
   ]
  },
  {
   "cell_type": "code",
   "execution_count": 15,
   "id": "ce653808",
   "metadata": {},
   "outputs": [],
   "source": [
    "west = np.array(['США', 'Германия', 'Чехия', 'Швеция', 'Британия', 'Франция', 'Италия', 'Испания'])\n",
    "east = ['Южная Корея', 'Япония', 'Россия', 'Китай']"
   ]
  },
  {
   "cell_type": "markdown",
   "id": "ff144b3b",
   "metadata": {},
   "source": [
    "Проверим распределение цен наших автомобилей"
   ]
  },
  {
   "cell_type": "code",
   "execution_count": 16,
   "id": "2c898830",
   "metadata": {},
   "outputs": [
    {
     "data": {
      "image/png": "[encoded data removed]",
      "text/plain": [
       "<Figure size 432x288 with 1 Axes>"
      ]
     },
     "metadata": {
      "needs_background": "light"
     },
     "output_type": "display_data"
    }
   ],
   "source": [
    "plt.hist(df['Цена'], bins = 100)\n",
    "plt.title('Гистограмма цен')\n",
    "plt.xlabel('Ценовая категория')\n",
    "plt.ylabel('Количество автомобилей в ценовой категории');"
   ]
  },
  {
   "cell_type": "markdown",
   "id": "11f05756",
   "metadata": {},
   "source": [
    "Гистограмма очень похожа на хи квадрат, который в ассимптотике сможет дать нормальное распределение, поэтому мы сможем воспользоваться этим свойством для проверки гипотезы.\n",
    "\n",
    "Мы не знаем нашу истинную дисперсию, поэтому воспользуемся ее несмещенной оценкой..\n",
    "\n",
    "Возьмем уровень доверия 95%"
   ]
  },
  {
   "cell_type": "code",
   "execution_count": 17,
   "id": "ccc3d4c8",
   "metadata": {},
   "outputs": [],
   "source": [
    "idx_w = []\n",
    "idx_e = []\n",
    "for i in df['Страна']:\n",
    "    if i in west:\n",
    "        idx_w.append(True)\n",
    "        idx_e.append(False)\n",
    "    else:\n",
    "        idx_w.append(False)\n",
    "        idx_e.append(True)\n",
    "\n",
    "df_w = df[idx_w]\n",
    "df_e = df[idx_e]\n",
    "\n",
    "sigma = np.sqrt((df_e['Цена'].var(ddof = 1) * (df_e.size - 1) + df_w['Цена'].var(ddof = 1) * (df_w.size - 1)) \n",
    " / (df_w.size + df_e.size - 2))\n",
    "\n",
    "t_rasch = (df_w['Цена'].mean() - df_e['Цена'].mean()) / (sigma * np.sqrt((1 / df_e.size) + (1 / df_w.size)))\n",
    "t_kr = sts.t(df = df_e.size + df_w.size - 2).ppf(0.05/2)\n"
   ]
  },
  {
   "cell_type": "code",
   "execution_count": 18,
   "id": "91717f97",
   "metadata": {},
   "outputs": [],
   "source": [
    "sigma = np.sqrt((df_e['Цена'].var(ddof = 1) * (df_e.size - 1) + df_w['Цена'].var(ddof = 1) * (df_w.size - 1)) \n",
    " / (df_w.size + df_e.size - 2))\n",
    "\n",
    "t_rasch = (df_w['Цена'].mean() - df_e['Цена'].mean()) / (sigma * np.sqrt((1 / df_e.size) + (1 / df_w.size)))\n",
    "t_kr = sts.t(df = df_e.size + df_w.size - 2).ppf(0.05/2)"
   ]
  },
  {
   "cell_type": "code",
   "execution_count": 19,
   "id": "c2f2fd05",
   "metadata": {},
   "outputs": [
    {
     "data": {
      "image/png": "[encoded data removed]",
      "text/plain": [
       "<Figure size 432x288 with 1 Axes>"
      ]
     },
     "metadata": {
      "needs_background": "light"
     },
     "output_type": "display_data"
    }
   ],
   "source": [
    "x = np.linspace(-32, 32, 1000)\n",
    "pdf = sts.t(df=df_e.size + df_w.size - 2).pdf(x)\n",
    "plt.plot(x, pdf, color = 'black')\n",
    "\n",
    "plt.scatter(t_rasch, [sts.t(df=df_e.size + df_w.size - 2).pdf(t_rasch)], color=\"blue\")\n",
    "plt.axvline(t_rasch, color='blue', linestyle=\"--\", lw=1)\n",
    "\n",
    "plt.axvline(t_kr, color='red', linestyle=\"--\", lw=1)\n",
    "xq = np.linspace(-32, t_kr, 100)\n",
    "yq = sts.t(df=df_e.size + df_w.size - 2).pdf(xq)\n",
    "plt.fill_between(xq, 0, yq, color='red', alpha=0.2)\n",
    "\n",
    "plt.axvline(-1 * t_kr, color='red', linestyle=\"--\", lw=1)\n",
    "xq = np.linspace(-1 * t_kr, 32, 100)\n",
    "yq = sts.t(df=df_e.size + df_w.size - 2).pdf(xq)\n",
    "plt.fill_between(xq, 0, yq, color='red', alpha=0.2)\n",
    "\n",
    "plt.plot(x, pdf)\n",
    "plt.ylabel('f(x)')\n",
    "plt.xlabel('x')\n",
    "plt.title('График плотности распредления Стьюдента с нужными точками');"
   ]
  },
  {
   "cell_type": "code",
   "execution_count": 20,
   "id": "d5c9f6c2",
   "metadata": {},
   "outputs": [
    {
     "name": "stdout",
     "output_type": "stream",
     "text": [
      "Расчетная точка: 30.34321831511047\n",
      "Критические точки: 1.960087961271559, -1.960087961271559\n"
     ]
    }
   ],
   "source": [
    "print('Расчетная точка:',  t_rasch)\n",
    "print('Критические точки: ',  -1 * t_kr, ', ', t_kr, sep = '')"
   ]
  },
  {
   "cell_type": "markdown",
   "id": "24c5dbc2",
   "metadata": {},
   "source": [
    "Собственного говоря, мы можем отвергнуть нашу гипотезу. Это видно и по графику выше"
   ]
  },
  {
   "cell_type": "markdown",
   "id": "a02413ce",
   "metadata": {},
   "source": [
    "> Гипотез много. Например, выше, во время обработки данных и EDA мы заметили раритетную машину 1950 года. Интересно, она одна такая? Или их значимое количество, если поискать? \n",
    "\n",
    "Может ли цена зависеть от года выпуска прямо - чем меньше год выпуска, т.е. старее машина - тем выше цена?"
   ]
  },
  {
   "cell_type": "markdown",
   "id": "0172947a",
   "metadata": {},
   "source": [
    "<img src=\"photo_2023-06-14_20-24-58.jpg\" width=\"500\" height=\"340\">"
   ]
  },
  {
   "cell_type": "markdown",
   "id": "3e2670c6",
   "metadata": {},
   "source": [
    "### Шутка! проверяем:"
   ]
  },
  {
   "cell_type": "code",
   "execution_count": 21,
   "id": "4a338760",
   "metadata": {},
   "outputs": [
    {
     "data": {
      "image/png": "[encoded data removed]",
      "text/plain": [
       "<Figure size 432x288 with 1 Axes>"
      ]
     },
     "metadata": {
      "needs_background": "light"
     },
     "output_type": "display_data"
    }
   ],
   "source": [
    "df['Год'] = pd.to_numeric(df['Год'])\n",
    "\n",
    "# Создание нового столбца 'Возраст'\n",
    "current_year = 2023  # Текущий год\n",
    "df['Возраст'] = current_year - df['Год']\n",
    "\n",
    "# Группировка данных по возрасту автомобилей и вычисление средней цены для каждой группы\n",
    "age_price = df.groupby('Возраст')['Цена'].mean()\n",
    "\n",
    "# Построение графика для визуализации результатов\n",
    "plt.plot(age_price.index, age_price.values)\n",
    "plt.xlabel('Возраст автомобиля')\n",
    "plt.ylabel('Средняя цена перепродажи')\n",
    "plt.title('Средняя цена перепродажи в зависимости от возраста автомобиля')\n",
    "plt.show()"
   ]
  },
  {
   "cell_type": "code",
   "execution_count": 22,
   "id": "a16af520",
   "metadata": {},
   "outputs": [
    {
     "data": {
      "text/html": [
       "<div>\n",
       "<style scoped>\n",
       "    .dataframe tbody tr th:only-of-type {\n",
       "        vertical-align: middle;\n",
       "    }\n",
       "\n",
       "    .dataframe tbody tr th {\n",
       "        vertical-align: top;\n",
       "    }\n",
       "\n",
       "    .dataframe thead th {\n",
       "        text-align: right;\n",
       "    }\n",
       "</style>\n",
       "<table border=\"1\" class=\"dataframe\">\n",
       "  <thead>\n",
       "    <tr style=\"text-align: right;\">\n",
       "      <th></th>\n",
       "      <th>Производитель</th>\n",
       "      <th>Марка</th>\n",
       "      <th>Страна</th>\n",
       "      <th>Год</th>\n",
       "      <th>Топливо</th>\n",
       "      <th>Объем двигателя</th>\n",
       "      <th>Мощность</th>\n",
       "      <th>Коробка передач</th>\n",
       "      <th>Привод</th>\n",
       "      <th>Цвет</th>\n",
       "      <th>Пробег</th>\n",
       "      <th>Руль</th>\n",
       "      <th>Оценка Drom</th>\n",
       "      <th>Цена</th>\n",
       "      <th>Возраст</th>\n",
       "    </tr>\n",
       "  </thead>\n",
       "  <tbody>\n",
       "    <tr>\n",
       "      <th>12</th>\n",
       "      <td>ГАЗ</td>\n",
       "      <td>14 Чайка</td>\n",
       "      <td>Россия</td>\n",
       "      <td>1985</td>\n",
       "      <td>бензин</td>\n",
       "      <td>5.5</td>\n",
       "      <td>220.0</td>\n",
       "      <td>автомат</td>\n",
       "      <td>задний</td>\n",
       "      <td>черный</td>\n",
       "      <td>39316</td>\n",
       "      <td>левый</td>\n",
       "      <td>8.602</td>\n",
       "      <td>3000000</td>\n",
       "      <td>38</td>\n",
       "    </tr>\n",
       "    <tr>\n",
       "      <th>161</th>\n",
       "      <td>Лада</td>\n",
       "      <td>2101</td>\n",
       "      <td>Россия</td>\n",
       "      <td>1986</td>\n",
       "      <td>бензин</td>\n",
       "      <td>1.3</td>\n",
       "      <td>64.0</td>\n",
       "      <td>механика</td>\n",
       "      <td>задний</td>\n",
       "      <td>бежевый</td>\n",
       "      <td>100000</td>\n",
       "      <td>левый</td>\n",
       "      <td>7.500</td>\n",
       "      <td>60000</td>\n",
       "      <td>37</td>\n",
       "    </tr>\n",
       "    <tr>\n",
       "      <th>543</th>\n",
       "      <td>Лада</td>\n",
       "      <td>4x4 2121 Нива</td>\n",
       "      <td>Россия</td>\n",
       "      <td>1987</td>\n",
       "      <td>бензин</td>\n",
       "      <td>1.6</td>\n",
       "      <td>73.0</td>\n",
       "      <td>механика</td>\n",
       "      <td>4WD</td>\n",
       "      <td>бежевый</td>\n",
       "      <td>69000</td>\n",
       "      <td>левый</td>\n",
       "      <td>8.602</td>\n",
       "      <td>152000</td>\n",
       "      <td>36</td>\n",
       "    </tr>\n",
       "    <tr>\n",
       "      <th>548</th>\n",
       "      <td>Лада</td>\n",
       "      <td>2102</td>\n",
       "      <td>Россия</td>\n",
       "      <td>1985</td>\n",
       "      <td>бензин</td>\n",
       "      <td>1.6</td>\n",
       "      <td>64.0</td>\n",
       "      <td>механика</td>\n",
       "      <td>задний</td>\n",
       "      <td>бежевый</td>\n",
       "      <td>99999</td>\n",
       "      <td>левый</td>\n",
       "      <td>8.602</td>\n",
       "      <td>75000</td>\n",
       "      <td>38</td>\n",
       "    </tr>\n",
       "    <tr>\n",
       "      <th>885</th>\n",
       "      <td>BMW</td>\n",
       "      <td>340</td>\n",
       "      <td>Германия</td>\n",
       "      <td>1950</td>\n",
       "      <td>бензин</td>\n",
       "      <td>2.0</td>\n",
       "      <td>55.0</td>\n",
       "      <td>механика</td>\n",
       "      <td>задний</td>\n",
       "      <td>черный</td>\n",
       "      <td>50000</td>\n",
       "      <td>левый</td>\n",
       "      <td>8.602</td>\n",
       "      <td>5600000</td>\n",
       "      <td>73</td>\n",
       "    </tr>\n",
       "  </tbody>\n",
       "</table>\n",
       "</div>"
      ],
      "text/plain": [
       "    Производитель          Марка    Страна   Год Топливо  Объем двигателя  \\\n",
       "12            ГАЗ       14 Чайка    Россия  1985  бензин              5.5   \n",
       "161          Лада           2101    Россия  1986  бензин              1.3   \n",
       "543          Лада  4x4 2121 Нива    Россия  1987  бензин              1.6   \n",
       "548          Лада           2102    Россия  1985  бензин              1.6   \n",
       "885           BMW            340  Германия  1950  бензин              2.0   \n",
       "\n",
       "     Мощность Коробка передач  Привод     Цвет  Пробег   Руль  Оценка Drom  \\\n",
       "12      220.0         автомат  задний   черный   39316  левый        8.602   \n",
       "161      64.0        механика  задний  бежевый  100000  левый        7.500   \n",
       "543      73.0        механика     4WD  бежевый   69000  левый        8.602   \n",
       "548      64.0        механика  задний  бежевый   99999  левый        8.602   \n",
       "885      55.0        механика  задний   черный   50000  левый        8.602   \n",
       "\n",
       "        Цена  Возраст  \n",
       "12   3000000       38  \n",
       "161    60000       37  \n",
       "543   152000       36  \n",
       "548    75000       38  \n",
       "885  5600000       73  "
      ]
     },
     "execution_count": 22,
     "metadata": {},
     "output_type": "execute_result"
    }
   ],
   "source": [
    "df.loc[df.Возраст > 35].head()"
   ]
  },
  {
   "cell_type": "markdown",
   "id": "8a1c77a4",
   "metadata": {},
   "source": [
    "> Что ж, немолодых автомобилей у нас оказалось не так много, как хотелось бы, но учитывая, что на 3 машины из 5 имеющихся возрастом сташе 35 лет стоимость больше миллиона и на графике четко видно, что она растет с возрастом - данная зависимость имеет место быть.\n",
    "\n",
    "Хорошо, но можно ли говорить, что цена автомобиля обусловлена его возрастом и пробегом и прочими факторами, но при этом в целом не так то и важно, какая марка машины это изначально была?"
   ]
  },
  {
   "cell_type": "code",
   "execution_count": 24,
   "id": "9af64904",
   "metadata": {},
   "outputs": [
    {
     "name": "stdout",
     "output_type": "stream",
     "text": [
      "F-значение: 12.02950298125449\n",
      "p-value: 9.93443250823884e-92\n"
     ]
    }
   ],
   "source": [
    "brand_price = df.groupby('Производитель')['Цена'].mean()\n",
    "\n",
    "# Выполнение однофакторного ANOVA\n",
    "fvalue, pvalue = sts.f_oneway(*[group['Цена'] for brand, group in df.groupby('Производитель')])\n",
    "\n",
    "# Вывод результатов\n",
    "print(\"F-значение:\", fvalue)\n",
    "print(\"p-value:\", pvalue)"
   ]
  },
  {
   "cell_type": "markdown",
   "id": "ca55ff68",
   "metadata": {},
   "source": [
    "Кажется, нет. Из-за большого F-значения можно утверждать, что марка авто значительно влияет на его цену, а столь маленький p-value (e-92!!!!) говорит о том, что ошибка тут явно исключена"
   ]
  },
  {
   "cell_type": "markdown",
   "id": "e67a1512",
   "metadata": {},
   "source": [
    "\n",
    "# V) Тачковое обучение \n",
    "(потому что мы про тачки/машинки делаем проект, прикольно да?:)\n"
   ]
  },
  {
   "cell_type": "markdown",
   "id": "d5cbc955",
   "metadata": {},
   "source": [
    "<img src = 2741968780.png/\\\n",
    "svg.png width = \"500\" height = \"500\" >"
   ]
  },
  {
   "cell_type": "markdown",
   "id": "ae586015",
   "metadata": {},
   "source": [
    "Мы решили много не думать, поэтому наша модель будет предсказывать цену автомобиля. Так как мы предсказываем действительное число, то будем пользоваться регрессией "
   ]
  },
  {
   "cell_type": "code",
   "execution_count": 205,
   "id": "2ac38a61",
   "metadata": {},
   "outputs": [],
   "source": [
    "from sklearn.model_selection import train_test_split\n",
    "from sklearn.neighbors import KNeighborsClassifier\n",
    "from sklearn.linear_model import LinearRegression\n",
    "from sklearn.ensemble import RandomForestClassifier\n",
    "from sklearn. preprocessing import OneHotEncoder\n",
    "from sklearn.metrics import mean_absolute_percentage_error\n",
    "from sklearn.preprocessing import StandardScaler\n",
    "from sklearn.compose import ColumnTransformer\n",
    "from sklearn.pipeline import Pipeline\n",
    "from sklearn. linear_model import Lasso\n",
    "from sklearn.model_selection import GridSearchCV\n",
    "from sklearn import preprocessing"
   ]
  },
  {
   "cell_type": "code",
   "execution_count": 182,
   "id": "8e385e17",
   "metadata": {},
   "outputs": [],
   "source": [
    "df = pd.read_csv('new_data_processed.csv')\n",
    "df.drop('Unnamed: 0', axis = 1, inplace = True)\n",
    "\n",
    "df['Производитель'] = df['Производитель'] + ' ' + df['Марка']\n",
    "df.drop('Марка', axis = 1, inplace = True)\n",
    "df.rename(columns = {'Производитель': 'Название'}, inplace = True)"
   ]
  },
  {
   "cell_type": "code",
   "execution_count": 183,
   "id": "3c45afd7",
   "metadata": {},
   "outputs": [],
   "source": [
    "df_1 = df[['Год', 'Объем двигателя', 'Мощность', 'Пробег', 'Оценка Drom', 'Цена']]\n",
    "df_train, df_test = train_test_split(df_1, test_size=0.2, random_state=101)\n",
    "\n",
    "y_train = df_train['Цена']\n",
    "y_test = df_test['Цена']\n",
    "\n",
    "X_train = df_train.drop('Цена', axis=1)\n",
    "X_test = df_test.drop('Цена', axis=1)"
   ]
  },
  {
   "cell_type": "markdown",
   "id": "11792e49",
   "metadata": {},
   "source": [
    "__Линейная регрессия__"
   ]
  },
  {
   "cell_type": "code",
   "execution_count": 184,
   "id": "3cc4e8ff",
   "metadata": {},
   "outputs": [
    {
     "name": "stdout",
     "output_type": "stream",
     "text": [
      "Test MAPE = 1.1839\n",
      "Train MAPE = 0.9737\n"
     ]
    }
   ],
   "source": [
    "model = LinearRegression()\n",
    "\n",
    "model.fit(X_train, y_train)\n",
    "y_pr = model.predict(X_test)\n",
    "y_train_pred = model.predict(X_train)\n",
    "\n",
    "print(\"Test MAPE = %.4f\" % mean_absolute_percentage_error(y_test, y_pr))\n",
    "print(\"Train MAPE = %.4f\" % mean_absolute_percentage_error(y_train, y_train_pred))"
   ]
  },
  {
   "cell_type": "code",
   "execution_count": 185,
   "id": "df33be0e",
   "metadata": {},
   "outputs": [
    {
     "data": {
      "text/plain": [
       "1.099210076425752"
      ]
     },
     "execution_count": 185,
     "metadata": {},
     "output_type": "execute_result"
    }
   ],
   "source": [
    "#наш наивный прогноз\n",
    "\n",
    "y_naive_pred = np.median(y_train) * np.ones_like(y_test)\n",
    "mean_absolute_percentage_error(y_naive_pred, y_pr)"
   ]
  },
  {
   "cell_type": "markdown",
   "id": "99c98f93",
   "metadata": {},
   "source": [
    "Наша модель предсказывает хуже, чем наивный проноз, постараемся улучшить как это возможно..."
   ]
  },
  {
   "cell_type": "code",
   "execution_count": 186,
   "id": "d306d6f5",
   "metadata": {},
   "outputs": [
    {
     "name": "stdout",
     "output_type": "stream",
     "text": [
      "Test MAPE = 1.1839\n",
      "Train MAPE = 0.9737\n"
     ]
    }
   ],
   "source": [
    "# скалируем данные\n",
    "\n",
    "scaler = StandardScaler()\n",
    "X_train_scale = scaler.fit_transform(X_train)\n",
    "X_test_scale = scaler.transform(X_test)\n",
    "\n",
    "model.fit(X_train_scale, y_train)\n",
    "y_pr_ss = model.predict(X_test_scale)\n",
    "y_train_pr_ss = model.predict(X_train_scale)\n",
    "\n",
    "print(\"Test MAPE = %.4f\" % mean_absolute_percentage_error(y_test, y_pr_ss))\n",
    "print(\"Train MAPE = %.4f\" % mean_absolute_percentage_error(y_train, y_train_pr_ss))"
   ]
  },
  {
   "cell_type": "markdown",
   "id": "28c3148b",
   "metadata": {},
   "source": [
    "Ничего не поменялось, идем дальше.. Применим одно горячее кодирование к категориальным признакам и скалирование для числовых"
   ]
  },
  {
   "cell_type": "code",
   "execution_count": 189,
   "id": "84f3b63d",
   "metadata": {},
   "outputs": [
    {
     "name": "stdout",
     "output_type": "stream",
     "text": [
      "Test MAPE = 1.8266\n",
      "Train MAPE = 0.5157\n"
     ]
    }
   ],
   "source": [
    "X = df.drop(columns=['Цена'])\n",
    "\n",
    "numeric_features = X.select_dtypes([np.number]).columns\n",
    "categorical_features = X.dtypes[X.dtypes == \"object\"].index\n",
    "\n",
    "numeric_features = X.select_dtypes([np.number]).columns\n",
    "categorical_features = X.dtypes[X.dtypes == \"object\"].index\n",
    "\n",
    "df_train, df_test = train_test_split(df, test_size=0.2, random_state=101)\n",
    "\n",
    "y_train = df_train['Цена']\n",
    "y_test = df_test['Цена']\n",
    "\n",
    "X_train = df_train.drop('Цена', axis=1)\n",
    "X_test = df_test.drop('Цена', axis=1)\n",
    "\n",
    "column_transformer = ColumnTransformer([\n",
    "    ('scaling', StandardScaler(), numeric_features),    \n",
    "    ('ohe', OneHotEncoder(handle_unknown=\"ignore\", drop=\"first\"), categorical_features)\n",
    "])\n",
    "\n",
    "Linear_pipeline = Pipeline(steps=[\n",
    "    ('ohe_and_scaling', column_transformer),\n",
    "    ('regression', LinearRegression())\n",
    "])\n",
    "\n",
    "model = Linear_pipeline.fit(X_train, y_train)\n",
    "y_pred = model.predict(X_test)\n",
    "y_train_pred = model.predict(X_train)\n",
    "\n",
    "print(\"Test MAPE = %.4f\" % mean_absolute_percentage_error(y_test, y_pred))\n",
    "print(\"Train MAPE = %.4f\" % mean_absolute_percentage_error(y_train, y_train_pred))"
   ]
  },
  {
   "cell_type": "markdown",
   "id": "14e8628f",
   "metadata": {},
   "source": [
    "Стало совсем чуть лучше. Попробуем применить Lasso - регрессию"
   ]
  },
  {
   "cell_type": "code",
   "execution_count": 191,
   "id": "9ee201c1",
   "metadata": {},
   "outputs": [
    {
     "name": "stdout",
     "output_type": "stream",
     "text": [
      "Test MAPE = 1.4863\n",
      "Train MAPE = 0.5159\n"
     ]
    }
   ],
   "source": [
    "X = df.drop(columns=['Цена'])\n",
    "\n",
    "numeric_features = X.select_dtypes([np.number]).columns\n",
    "categorical_features = X.dtypes[X.dtypes == \"object\"].index\n",
    "\n",
    "numeric_features = X.select_dtypes([np.number]).columns\n",
    "categorical_features = X.dtypes[X.dtypes == \"object\"].index\n",
    "\n",
    "df_train, df_test = train_test_split(df, test_size=0.2, random_state=101)\n",
    "\n",
    "y_train = df_train['Цена']\n",
    "y_test = df_test['Цена']\n",
    "\n",
    "X_train = df_train.drop('Цена', axis=1)\n",
    "X_test = df_test.drop('Цена', axis=1)\n",
    "\n",
    "column_transformer = ColumnTransformer([\n",
    "    ('scaling', StandardScaler(), numeric_features),    \n",
    "    ('ohe', OneHotEncoder(handle_unknown=\"ignore\", drop=\"first\"), categorical_features)\n",
    "])\n",
    "\n",
    "Lasso_pipeline = Pipeline(steps=[\n",
    "    ('ohe_and_scaling', column_transformer),\n",
    "    ('regression', Lasso())\n",
    "])\n",
    "\n",
    "model = Lasso_pipeline.fit(X_train, y_train)\n",
    "y_pred = model.predict(X_test)\n",
    "y_train_pred = model.predict(X_train)\n",
    "\n",
    "\n",
    "print(\"Test MAPE = %.4f\" % mean_absolute_percentage_error(y_test, y_pred))\n",
    "print(\"Train MAPE = %.4f\" % mean_absolute_percentage_error(y_train, y_train_pred))"
   ]
  },
  {
   "cell_type": "markdown",
   "id": "24ca0855",
   "metadata": {},
   "source": [
    "Снова получше, но это капля в море, стараемся дальше. Попробуем подобрать альфу, чтобы хотя бы как-то улучшить эти зашкилавающие значения"
   ]
  },
  {
   "cell_type": "code",
   "execution_count": 192,
   "id": "6851f6d3",
   "metadata": {},
   "outputs": [],
   "source": [
    "alphas = np.logspace(-6, 6, 200)\n",
    "searcher = GridSearchCV(Lasso_pipeline, [{\"regression__alpha\": alphas}],\n",
    "                        scoring=\"neg_root_mean_squared_error\", cv=10, n_jobs=-1)\n",
    "searcher.fit(X_train, y_train)\n",
    "\n",
    "best_alpha = searcher.best_params_[\"regression__alpha\"]\n",
    "\n",
    "pipeline = Pipeline(steps=[\n",
    "    ('ohe_and_scaling', column_transformer),\n",
    "    ('regression', Lasso(best_alpha))\n",
    "])\n",
    "\n",
    "model = pipeline.fit(X_train, y_train)\n",
    "y_pred = model.predict(X_test)\n",
    "y_train_pred = model.predict(X_train)"
   ]
  },
  {
   "cell_type": "code",
   "execution_count": 194,
   "id": "95e377fd",
   "metadata": {},
   "outputs": [
    {
     "name": "stdout",
     "output_type": "stream",
     "text": [
      "Test MAPE = 1.3762\n",
      "Train MAPE = 0.7664\n"
     ]
    }
   ],
   "source": [
    "print(\"Test MAPE = %.4f\" % mean_absolute_percentage_error(y_test, y_pred))\n",
    "print(\"Train MAPE = %.4f\" % mean_absolute_percentage_error(y_train, y_train_pred))"
   ]
  },
  {
   "cell_type": "markdown",
   "id": "d641d381",
   "metadata": {},
   "source": [
    "Прекрасно. Нам ничего не помогает улучшить Линейную регрессию до адекватных значений, поэтому она отправляется куда подальше. Рассмотрим другую модель"
   ]
  },
  {
   "cell_type": "markdown",
   "id": "ab846698",
   "metadata": {},
   "source": [
    "__Ближайшие соседи__"
   ]
  },
  {
   "cell_type": "code",
   "execution_count": 215,
   "id": "b3c3bbbe",
   "metadata": {},
   "outputs": [
    {
     "name": "stdout",
     "output_type": "stream",
     "text": [
      "Test MAPE = 0.8989\n",
      "Train MAPE = 0.0071\n"
     ]
    }
   ],
   "source": [
    "#пробуем модель без ничего\n",
    "\n",
    "df_1 = df[['Год', 'Объем двигателя', 'Мощность', 'Пробег', 'Оценка Drom', 'Цена']]\n",
    "df_train, df_test = train_test_split(df_1, test_size=0.2, random_state=101)\n",
    "#наш таргет\n",
    "y_train = df_train['Цена']\n",
    "y_test = df_test['Цена']\n",
    "\n",
    "#наши признаки\n",
    "X_train = df_train.drop('Цена', axis=1)\n",
    "X_test = df_test.drop('Цена', axis=1)\n",
    "\n",
    "model = KNeighborsClassifier(n_neighbors=10, p = 2, weights='distance')\n",
    "\n",
    "model.fit(X_train, y_train)\n",
    "y_pr = model.predict(X_test)\n",
    "y_train_pred = model.predict(X_train)\n",
    "\n",
    "print(\"Test MAPE = %.4f\" % mean_absolute_percentage_error(y_test, y_pr))\n",
    "print(\"Train MAPE = %.4f\" % mean_absolute_percentage_error(y_train, y_train_pred))"
   ]
  },
  {
   "cell_type": "markdown",
   "id": "7e9ca78a",
   "metadata": {},
   "source": [
    "Самая простая модель ближайших соседей только на числовых признаках предсказывает лучше всех выше перечисленных"
   ]
  },
  {
   "cell_type": "code",
   "execution_count": 216,
   "id": "2bd87d2f",
   "metadata": {},
   "outputs": [
    {
     "name": "stdout",
     "output_type": "stream",
     "text": [
      "Test MAPE = 0.3225\n",
      "Train MAPE = 0.0071\n"
     ]
    }
   ],
   "source": [
    "# скалируем данные\n",
    "\n",
    "scaler = StandardScaler()\n",
    "X_train_scale = scaler.fit_transform(X_train)\n",
    "X_test_scale = scaler.transform(X_test)\n",
    "\n",
    "model.fit(X_train_scale, y_train)\n",
    "y_pr_ss = model.predict(X_test_scale)\n",
    "y_train_pr_ss = model.predict(X_train_scale)\n",
    "\n",
    "print(\"Test MAPE = %.4f\" % mean_absolute_percentage_error(y_test, y_pr_ss))\n",
    "print(\"Train MAPE = %.4f\" % mean_absolute_percentage_error(y_train, y_train_pr_ss))"
   ]
  },
  {
   "cell_type": "code",
   "execution_count": 217,
   "id": "6ed49ade",
   "metadata": {},
   "outputs": [
    {
     "name": "stdout",
     "output_type": "stream",
     "text": [
      "Test MAPE = 0.6997\n",
      "Train MAPE = 0.0071\n"
     ]
    }
   ],
   "source": [
    "# нормируем данные\n",
    "X_train_norm = preprocessing.normalize(X_train)\n",
    "X_test_norm = preprocessing.normalize(X_test)\n",
    "\n",
    "model.fit(X_train_norm, y_train)\n",
    "y_pr_s = model.predict(X_test_norm)\n",
    "y_train_pr_s = model.predict(X_train_norm)\n",
    "\n",
    "print(\"Test MAPE = %.4f\" % mean_absolute_percentage_error(y_test, y_pr_s))\n",
    "print(\"Train MAPE = %.4f\" % mean_absolute_percentage_error(y_train, y_train_pr_s))"
   ]
  },
  {
   "cell_type": "markdown",
   "id": "cd13f0c5",
   "metadata": {},
   "source": [
    "Нормирование тоже не помогает, и хотя бы проскалированные данные показали результат получше. Хвала небесам. Попробуем присобачить категориальные переменные"
   ]
  },
  {
   "cell_type": "code",
   "execution_count": 211,
   "id": "67f60479",
   "metadata": {},
   "outputs": [
    {
     "name": "stdout",
     "output_type": "stream",
     "text": [
      "Test MAPE = 0.2754\n",
      "Train MAPE = 0.0986\n"
     ]
    }
   ],
   "source": [
    "X = df.drop(columns=['Цена'])\n",
    "\n",
    "numeric_features = X.select_dtypes([np.number]).columns\n",
    "categorical_features = X.dtypes[X.dtypes == \"object\"].index\n",
    "\n",
    "numeric_features = X.select_dtypes([np.number]).columns\n",
    "categorical_features = X.dtypes[X.dtypes == \"object\"].index\n",
    "\n",
    "df_train, df_test = train_test_split(df, test_size=0.2, random_state=101)\n",
    "\n",
    "y_train = df_train['Цена']\n",
    "y_test = df_test['Цена']\n",
    "\n",
    "X_train = df_train.drop('Цена', axis=1)\n",
    "X_test = df_test.drop('Цена', axis=1)\n",
    "\n",
    "column_transformer = ColumnTransformer([\n",
    "    ('scaling', StandardScaler(), numeric_features),    \n",
    "    ('ohe', OneHotEncoder(handle_unknown=\"ignore\", drop=\"first\"), categorical_features)\n",
    "])\n",
    "\n",
    "KNN_pipeline = Pipeline(steps=[\n",
    "    ('ohe_and_scaling', column_transformer),\n",
    "    ('KNN', KNeighborsClassifier(2))\n",
    "])\n",
    "\n",
    "model = KNN_pipeline.fit(X_train, y_train)\n",
    "y_pred = model.predict(X_test)\n",
    "y_train_pred = model.predict(X_train)\n",
    "\n",
    "print(\"Test MAPE = %.4f\" % mean_absolute_percentage_error(y_test, y_pred))\n",
    "print(\"Train MAPE = %.4f\" % mean_absolute_percentage_error(y_train, y_train_pred))"
   ]
  },
  {
   "cell_type": "code",
   "execution_count": 198,
   "id": "621a13a8",
   "metadata": {},
   "outputs": [
    {
     "name": "stdout",
     "output_type": "stream",
     "text": [
      "Test MAPE = 0.3389\n",
      "Train MAPE = 0.0069\n"
     ]
    }
   ],
   "source": [
    "df_jopa = df[['Год', 'Объем двигателя', 'Мощность', 'Пробег', 'Оценка Drom', 'Цена']]\n",
    "df_train, df_test = train_test_split(df_jopa, test_size=0.2, random_state=101)\n",
    "\n",
    "y_train = df_train['Цена']\n",
    "y_test = df_test['Цена']\n",
    "\n",
    "X_train = df_train.drop('Цена', axis=1)\n",
    "X_test = df_test.drop('Цена', axis=1)\n",
    "\n",
    "\n",
    "model = RandomForestClassifier()\n",
    "\n",
    "\n",
    "model.fit(X_train, y_train)\n",
    "y_pred = model.predict(X_test)\n",
    "y_train_pred = model.predict(X_train)\n",
    "\n",
    "print(\"Test MAPE = %.4f\" % mean_absolute_percentage_error(y_test, y_pred))\n",
    "print(\"Train MAPE = %.4f\" % mean_absolute_percentage_error(y_train, y_train_pred))"
   ]
  },
  {
   "cell_type": "code",
   "execution_count": 199,
   "id": "f24c14ff",
   "metadata": {},
   "outputs": [
    {
     "name": "stdout",
     "output_type": "stream",
     "text": [
      "Test MAPE = 0.3926\n",
      "Train MAPE = 0.0020\n"
     ]
    }
   ],
   "source": [
    "X = df.drop(columns=['Цена'])\n",
    "\n",
    "numeric_features = X.select_dtypes([np.number]).columns\n",
    "categorical_features = X.dtypes[X.dtypes == \"object\"].index\n",
    "\n",
    "numeric_features = X.select_dtypes([np.number]).columns\n",
    "categorical_features = X.dtypes[X.dtypes == \"object\"].index\n",
    "\n",
    "df_train, df_test = train_test_split(df, test_size=0.2, random_state=101)\n",
    "\n",
    "y_train = df_train['Цена']\n",
    "y_test = df_test['Цена']\n",
    "\n",
    "X_train = df_train.drop('Цена', axis=1)\n",
    "X_test = df_test.drop('Цена', axis=1)\n",
    "\n",
    "column_transformer = ColumnTransformer([\n",
    "    ('scaling', StandardScaler(), numeric_features),    \n",
    "    ('ohe', OneHotEncoder(handle_unknown=\"ignore\", drop=\"first\"), categorical_features)\n",
    "])\n",
    "\n",
    "pipeline = Pipeline(steps=[\n",
    "    ('ohe_and_scaling', column_transformer),\n",
    "    ('model', RandomForestClassifier())\n",
    "])\n",
    "\n",
    "pipeline.fit(X_train, y_train)\n",
    "y_pred = pipeline.predict(X_test)\n",
    "y_train_pred = pipeline.predict(X_train)\n",
    "\n",
    "print(\"Test MAPE = %.4f\" % mean_absolute_percentage_error(y_test, y_pred))\n",
    "print(\"Train MAPE = %.4f\" % mean_absolute_percentage_error(y_train, y_train_pred))"
   ]
  },
  {
   "cell_type": "code",
   "execution_count": 201,
   "id": "1fcb2ac7",
   "metadata": {
    "scrolled": true
   },
   "outputs": [
    {
     "name": "stdout",
     "output_type": "stream",
     "text": [
      "Fitting 4 folds for each of 100 candidates, totalling 400 fits\n",
      "Test MAPE = 0.7425\n",
      "Train MAPE = 0.7614\n"
     ]
    }
   ],
   "source": [
    "X = df.drop(columns=['Цена'])\n",
    "\n",
    "numeric_features = X.select_dtypes([np.number]).columns\n",
    "categorical_features = X.dtypes[X.dtypes == \"object\"].index\n",
    "\n",
    "numeric_features = X.select_dtypes([np.number]).columns\n",
    "categorical_features = X.dtypes[X.dtypes == \"object\"].index\n",
    "\n",
    "df_train, df_test = train_test_split(df, test_size=0.2, random_state=101)\n",
    "\n",
    "y_train = df_train['Цена']\n",
    "y_test = df_test['Цена']\n",
    "\n",
    "X_train = df_train.drop('Цена', axis=1)\n",
    "X_test = df_test.drop('Цена', axis=1)\n",
    "\n",
    "\n",
    "column_transformer = ColumnTransformer([\n",
    "    ('scaling', StandardScaler(), numeric_features),    \n",
    "    ('ohe', OneHotEncoder(handle_unknown=\"ignore\", drop=\"first\"), categorical_features)\n",
    "])\n",
    "\n",
    "pipeline = Pipeline(steps=[\n",
    "    ('ohe_and_scaling', column_transformer),\n",
    "    ('estimator', RandomForestClassifier())\n",
    "])\n",
    "\n",
    "from sklearn.model_selection import RandomizedSearchCV\n",
    "n_estimators = [int(x) for x in np.linspace(start = 1, stop = 100, num = 30)]\n",
    "max_features = ['log2', 'sqrt']\n",
    "max_depth = [int(x) for x in np.linspace(start = 1, stop = 30, num = 30)]\n",
    "min_samples_split = [int(x) for x in np.linspace(start = 2, stop = 50, num = 20)]\n",
    "min_samples_leaf = [int(x) for x in np.linspace(start = 2, stop = 50, num = 20)]\n",
    "bootstrap = [True, False]\n",
    "param_dist = {'estimator__n_estimators': n_estimators,\n",
    "               'estimator__max_features': max_features,\n",
    "               'estimator__max_depth': max_depth,\n",
    "               'estimator__min_samples_split': min_samples_split,\n",
    "               'estimator__min_samples_leaf': min_samples_leaf,\n",
    "               'estimator__bootstrap': bootstrap}\n",
    "rs = RandomizedSearchCV(pipeline, \n",
    "                        param_dist, \n",
    "                        n_iter = 100, \n",
    "                        cv = 4, \n",
    "                        scoring = mean_absolute_percentage_error,\n",
    "                        verbose = 1, \n",
    "                        n_jobs=-1, \n",
    "                        random_state=0)\n",
    "\n",
    "rs.fit(X_train, y_train)\n",
    "y_pred = rs.predict(X_test)\n",
    "y_train_pred = rs.predict(X_train)\n",
    "\n",
    "print(\"Test MAPE = %.4f\" % mean_absolute_percentage_error(y_test, y_pred))\n",
    "print(\"Train MAPE = %.4f\" % mean_absolute_percentage_error(y_train, y_train_pred))"
   ]
  },
  {
   "cell_type": "markdown",
   "id": "475fb705",
   "metadata": {},
   "source": [
    "Исходя из вышеполученного можно сделать вывод, что самая лучшая модель показала MAPE = 0.2754, и это модель..."
   ]
  },
  {
   "cell_type": "code",
   "execution_count": 202,
   "id": "2ca1190b",
   "metadata": {},
   "outputs": [
    {
     "name": "stdout",
     "output_type": "stream",
     "text": [
      "Test MAPE = 0.2754\n",
      "Train MAPE = 0.0986\n"
     ]
    }
   ],
   "source": [
    "X = df.drop(columns=['Цена'])\n",
    "\n",
    "numeric_features = X.select_dtypes([np.number]).columns\n",
    "categorical_features = X.dtypes[X.dtypes == \"object\"].index\n",
    "\n",
    "numeric_features = X.select_dtypes([np.number]).columns\n",
    "categorical_features = X.dtypes[X.dtypes == \"object\"].index\n",
    "\n",
    "df_train, df_test = train_test_split(df, test_size=0.2, random_state=101)\n",
    "\n",
    "y_train = df_train['Цена']\n",
    "y_test = df_test['Цена']\n",
    "\n",
    "X_train = df_train.drop('Цена', axis=1)\n",
    "X_test = df_test.drop('Цена', axis=1)\n",
    "\n",
    "column_transformer = ColumnTransformer([\n",
    "    ('scaling', StandardScaler(), numeric_features),    \n",
    "    ('ohe', OneHotEncoder(handle_unknown=\"ignore\", drop=\"first\"), categorical_features)\n",
    "])\n",
    "\n",
    "KNN_pipeline = Pipeline(steps=[\n",
    "    ('ohe_and_scaling', column_transformer),\n",
    "    ('KNN', KNeighborsClassifier(2))\n",
    "])\n",
    "\n",
    "model = KNN_pipeline.fit(X_train, y_train)\n",
    "y_pred = model.predict(X_test)\n",
    "y_train_pred = model.predict(X_train)\n",
    "\n",
    "print(\"Test MAPE = %.4f\" % mean_absolute_percentage_error(y_test, y_pred))\n",
    "print(\"Train MAPE = %.4f\" % mean_absolute_percentage_error(y_train, y_train_pred))"
   ]
  },
  {
   "cell_type": "markdown",
   "id": "5b4a56e6",
   "metadata": {},
   "source": [
    "<img src=\"photo_2023-06-14_19-48-52.jpg\" width=\"500\" height=\"340\">"
   ]
  },
  {
   "cell_type": "markdown",
   "id": "a47c3717",
   "metadata": {},
   "source": [
    "# Спасибо за внимание!"
   ]
  }
 ],
 "metadata": {
  "colab": {
   "provenance": []
  },
  "kernelspec": {
   "display_name": "Python 3 (ipykernel)",
   "language": "python",
   "name": "python3"
  },
  "language_info": {
   "codemirror_mode": {
    "name": "ipython",
    "version": 3
   },
   "file_extension": ".py",
   "mimetype": "text/x-python",
   "name": "python",
   "nbconvert_exporter": "python",
   "pygments_lexer": "ipython3",
   "version": "3.9.12"
  }
 },
 "nbformat": 4,
 "nbformat_minor": 5
}
